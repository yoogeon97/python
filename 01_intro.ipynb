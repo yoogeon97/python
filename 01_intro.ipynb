{
 "cells": [
  {
   "cell_type": "code",
   "execution_count": null,
   "id": "561df029-e081-4213-832e-ff9a79ce1cbd",
   "metadata": {},
   "outputs": [],
   "source": [
    "print('hello')"
   ]
  },
  {
   "cell_type": "markdown",
   "id": "5a0de42c-5715-4782-9793-d09659ebeb2a",
   "metadata": {},
   "source": [
    "# 01.intro"
   ]
  },
  {
   "cell_type": "markdown",
   "id": "bcffb5e8-1bb8-4039-bed4-80f15ad8525c",
   "metadata": {},
   "source": [
    "## 단축키\n",
    "\n",
    "- ctrl + enter:지금 셀 실행\n",
    "- shift + enter:지금 셀 실행+아래로 이동\n",
    "- alt + enter:지금 셀 실행+아래에 새로운 셀 추가"
   ]
  },
  {
   "cell_type": "code",
   "execution_count": null,
   "id": "c6ed4a5c-7a2f-4ec8-9a00-6e49ae51f58f",
   "metadata": {},
   "outputs": [],
   "source": [
    "# 주석입니다."
   ]
  },
  {
   "cell_type": "markdown",
   "id": "5d2b1874-84b0-4d6b-9220-362c3b6a36ab",
   "metadata": {},
   "source": [
    "# 1.변수\n",
    "\n",
    "변수이름 '=' 값\n",
    "\n",
    "- 변수이름은 어떤 이름이든 상관없음\n",
    "- 영어 숫자,`_`를이용하여 선언\n",
    "- 키워드는 사용불가"
   ]
  },
  {
   "cell_type": "code",
   "execution_count": null,
   "id": "4fed4f58-78f4-4169-aab3-7e203327fde4",
   "metadata": {},
   "outputs": [],
   "source": [
    "a = 10"
   ]
  },
  {
   "cell_type": "code",
   "execution_count": null,
   "id": "ad49c930-e542-47b8-9754-743e77bb54ba",
   "metadata": {},
   "outputs": [],
   "source": [
    "a"
   ]
  },
  {
   "cell_type": "code",
   "execution_count": 2,
   "id": "67811201-e519-43f9-847d-1370a370f05d",
   "metadata": {},
   "outputs": [
    {
     "data": {
      "text/plain": [
       "['False',\n",
       " 'None',\n",
       " 'True',\n",
       " 'and',\n",
       " 'as',\n",
       " 'assert',\n",
       " 'async',\n",
       " 'await',\n",
       " 'break',\n",
       " 'class',\n",
       " 'continue',\n",
       " 'def',\n",
       " 'del',\n",
       " 'elif',\n",
       " 'else',\n",
       " 'except',\n",
       " 'finally',\n",
       " 'for',\n",
       " 'from',\n",
       " 'global',\n",
       " 'if',\n",
       " 'import',\n",
       " 'in',\n",
       " 'is',\n",
       " 'lambda',\n",
       " 'nonlocal',\n",
       " 'not',\n",
       " 'or',\n",
       " 'pass',\n",
       " 'raise',\n",
       " 'return',\n",
       " 'try',\n",
       " 'while',\n",
       " 'with',\n",
       " 'yield']"
      ]
     },
     "execution_count": 2,
     "metadata": {},
     "output_type": "execute_result"
    }
   ],
   "source": [
    "import keyword\n",
    "keyword.kwlist"
   ]
  },
  {
   "cell_type": "markdown",
   "id": "be09231c-7c40-4ae9-ba4d-7b1abe157827",
   "metadata": {},
   "source": [
    "# 1.1 number"
   ]
  },
  {
   "cell_type": "code",
   "execution_count": 3,
   "id": "ff44084b-24a4-4819-b2c1-9b6559967545",
   "metadata": {},
   "outputs": [],
   "source": [
    "a = 100000"
   ]
  },
  {
   "cell_type": "code",
   "execution_count": 4,
   "id": "ced16e8f-fbe4-4ffe-ab1d-326e3b202120",
   "metadata": {},
   "outputs": [
    {
     "data": {
      "text/plain": [
       "100000"
      ]
     },
     "execution_count": 4,
     "metadata": {},
     "output_type": "execute_result"
    }
   ],
   "source": [
    "a"
   ]
  },
  {
   "cell_type": "code",
   "execution_count": 5,
   "id": "f1c83333-5662-41e5-8781-f6acb741f12f",
   "metadata": {},
   "outputs": [
    {
     "data": {
      "text/plain": [
       "int"
      ]
     },
     "execution_count": 5,
     "metadata": {},
     "output_type": "execute_result"
    }
   ],
   "source": [
    "type(a)"
   ]
  },
  {
   "cell_type": "code",
   "execution_count": 6,
   "id": "979f9d4b-25b0-43d9-9d62-faccf8245cd7",
   "metadata": {},
   "outputs": [],
   "source": [
    "b = 1.1"
   ]
  },
  {
   "cell_type": "code",
   "execution_count": 7,
   "id": "84dd9757-5640-4ae9-a188-1ba4008240ce",
   "metadata": {},
   "outputs": [
    {
     "data": {
      "text/plain": [
       "1.1"
      ]
     },
     "execution_count": 7,
     "metadata": {},
     "output_type": "execute_result"
    }
   ],
   "source": [
    "b"
   ]
  },
  {
   "cell_type": "code",
   "execution_count": 8,
   "id": "c6b143ab-ea58-403c-b72e-4ed8f5f0c096",
   "metadata": {},
   "outputs": [
    {
     "data": {
      "text/plain": [
       "float"
      ]
     },
     "execution_count": 8,
     "metadata": {},
     "output_type": "execute_result"
    }
   ],
   "source": [
    "type(b)"
   ]
  },
  {
   "cell_type": "code",
   "execution_count": 9,
   "id": "a2652321-a2ec-4173-b6cf-7e9a0373ecb3",
   "metadata": {},
   "outputs": [],
   "source": [
    "c = 1-4j"
   ]
  },
  {
   "cell_type": "code",
   "execution_count": 10,
   "id": "e5bf2ea6-8490-4276-8e3d-59f5f8a329a8",
   "metadata": {},
   "outputs": [
    {
     "data": {
      "text/plain": [
       "(1-4j)"
      ]
     },
     "execution_count": 10,
     "metadata": {},
     "output_type": "execute_result"
    }
   ],
   "source": [
    "c"
   ]
  },
  {
   "cell_type": "code",
   "execution_count": 11,
   "id": "8fd1e680-e63b-4346-9826-9663a704256e",
   "metadata": {},
   "outputs": [
    {
     "data": {
      "text/plain": [
       "complex"
      ]
     },
     "execution_count": 11,
     "metadata": {},
     "output_type": "execute_result"
    }
   ],
   "source": [
    "type(c)"
   ]
  },
  {
   "cell_type": "code",
   "execution_count": 12,
   "id": "4dbc8eb3-70ab-4d15-8397-64e1166c5879",
   "metadata": {},
   "outputs": [
    {
     "data": {
      "text/plain": [
       "-4.0"
      ]
     },
     "execution_count": 12,
     "metadata": {},
     "output_type": "execute_result"
    }
   ],
   "source": [
    "c.imag"
   ]
  },
  {
   "cell_type": "code",
   "execution_count": 13,
   "id": "76cc68d7-f073-4dc5-a68d-73ad2912af21",
   "metadata": {},
   "outputs": [
    {
     "data": {
      "text/plain": [
       "1.0"
      ]
     },
     "execution_count": 13,
     "metadata": {},
     "output_type": "execute_result"
    }
   ],
   "source": [
    "c.real"
   ]
  },
  {
   "cell_type": "markdown",
   "id": "6d17f027-ec32-4c51-bbb7-1edeac8a2e27",
   "metadata": {},
   "source": [
    "### 1.2 Boolean\n",
    "`True`,`False`로 이루어진 타입"
   ]
  },
  {
   "cell_type": "code",
   "execution_count": 14,
   "id": "2afe1e69-c21d-4151-984b-86c0d3006a37",
   "metadata": {},
   "outputs": [],
   "source": [
    "a = True"
   ]
  },
  {
   "cell_type": "code",
   "execution_count": 15,
   "id": "cc99db07-9cf6-4780-a267-28bc04693368",
   "metadata": {},
   "outputs": [
    {
     "data": {
      "text/plain": [
       "bool"
      ]
     },
     "execution_count": 15,
     "metadata": {},
     "output_type": "execute_result"
    }
   ],
   "source": [
    "type(a)"
   ]
  },
  {
   "cell_type": "markdown",
   "id": "e5d7bfd2-9cd7-4d96-a8cc-71116bbe5ee3",
   "metadata": {},
   "source": [
    "### 1.3 None"
   ]
  },
  {
   "cell_type": "code",
   "execution_count": 16,
   "id": "1c73ce55-22d4-4819-9d53-4633e6dbf35c",
   "metadata": {},
   "outputs": [],
   "source": [
    "a = None"
   ]
  },
  {
   "cell_type": "code",
   "execution_count": 17,
   "id": "e5167fdb-6647-4fe5-bfee-5b9812c48ae4",
   "metadata": {},
   "outputs": [
    {
     "data": {
      "text/plain": [
       "NoneType"
      ]
     },
     "execution_count": 17,
     "metadata": {},
     "output_type": "execute_result"
    }
   ],
   "source": [
    "type(a)"
   ]
  },
  {
   "cell_type": "markdown",
   "id": "f2932b82-c270-4555-af11-da5ac38f4b63",
   "metadata": {},
   "source": [
    "### 1.4 String\n",
    "- 문자열은 `'`, `\"`를 이용하여 표현"
   ]
  },
  {
   "cell_type": "code",
   "execution_count": null,
   "id": "f3e7e7b1-60d8-4356-83ae-5dc7346f1b95",
   "metadata": {},
   "outputs": [],
   "source": []
  },
  {
   "cell_type": "code",
   "execution_count": 18,
   "id": "b4efc5b7-0756-4015-9fa2-d84931dd7ba1",
   "metadata": {},
   "outputs": [],
   "source": [
    "a = 'hello'"
   ]
  },
  {
   "cell_type": "code",
   "execution_count": 19,
   "id": "7df290e2-274e-4491-9159-8187bdd2dab4",
   "metadata": {},
   "outputs": [
    {
     "data": {
      "text/plain": [
       "str"
      ]
     },
     "execution_count": 19,
     "metadata": {},
     "output_type": "execute_result"
    }
   ],
   "source": [
    "type(a)"
   ]
  },
  {
   "cell_type": "code",
   "execution_count": 20,
   "id": "fc28ab36-f134-4b55-b4cb-ba643a939b8c",
   "metadata": {},
   "outputs": [],
   "source": [
    "b = \"world\""
   ]
  },
  {
   "cell_type": "code",
   "execution_count": 21,
   "id": "be8fe05e-7150-4b06-9b23-46545fc26257",
   "metadata": {},
   "outputs": [
    {
     "data": {
      "text/plain": [
       "str"
      ]
     },
     "execution_count": 21,
     "metadata": {},
     "output_type": "execute_result"
    }
   ],
   "source": [
    "type(b)"
   ]
  },
  {
   "cell_type": "code",
   "execution_count": 22,
   "id": "763374b8-86fe-4a54-bb3a-74a147176e99",
   "metadata": {},
   "outputs": [
    {
     "name": "stdin",
     "output_type": "stream",
     "text": [
      " 111111\n"
     ]
    }
   ],
   "source": [
    "age = input()"
   ]
  },
  {
   "cell_type": "code",
   "execution_count": 23,
   "id": "c85639cd-9445-4bf3-bb36-b41f594f4118",
   "metadata": {},
   "outputs": [
    {
     "data": {
      "text/plain": [
       "'111111'"
      ]
     },
     "execution_count": 23,
     "metadata": {},
     "output_type": "execute_result"
    }
   ],
   "source": [
    "age"
   ]
  },
  {
   "cell_type": "code",
   "execution_count": 24,
   "id": "7bbf85e8-db65-4af2-bfad-6410619d9bef",
   "metadata": {},
   "outputs": [
    {
     "data": {
      "text/plain": [
       "str"
      ]
     },
     "execution_count": 24,
     "metadata": {},
     "output_type": "execute_result"
    }
   ],
   "source": [
    "type(age)"
   ]
  },
  {
   "cell_type": "code",
   "execution_count": 25,
   "id": "5af3f105-b487-4781-a97a-6c2bced50229",
   "metadata": {},
   "outputs": [
    {
     "ename": "SyntaxError",
     "evalue": "invalid syntax. Perhaps you forgot a comma? (2420286816.py, line 1)",
     "output_type": "error",
     "traceback": [
      "\u001b[1;36m  Cell \u001b[1;32mIn[25], line 1\u001b[1;36m\u001b[0m\n\u001b[1;33m    print('안녕하세요?'유건'입니다.')\u001b[0m\n\u001b[1;37m          ^\u001b[0m\n\u001b[1;31mSyntaxError\u001b[0m\u001b[1;31m:\u001b[0m invalid syntax. Perhaps you forgot a comma?\n"
     ]
    }
   ],
   "source": [
    "print('안녕하세요?'유건'입니다.')"
   ]
  },
  {
   "cell_type": "code",
   "execution_count": 26,
   "id": "b65f2ec0-c453-40c4-b9d8-ab2cc1610e85",
   "metadata": {},
   "outputs": [
    {
     "name": "stdout",
     "output_type": "stream",
     "text": [
      "안녕하세요?'유건'입니다.\n"
     ]
    }
   ],
   "source": [
    "print(\"안녕하세요?'유건'입니다.\")"
   ]
  },
  {
   "cell_type": "code",
   "execution_count": 27,
   "id": "3c9c3e8d-6fba-4e96-a815-bb73406f2673",
   "metadata": {},
   "outputs": [
    {
     "name": "stdout",
     "output_type": "stream",
     "text": [
      "안녕하세요?'유건'입니다.\n"
     ]
    }
   ],
   "source": [
    "print('안녕하세요?\\'유건\\'입니다.')"
   ]
  },
  {
   "cell_type": "code",
   "execution_count": 32,
   "id": "8f7d7afe-df1e-4c43-8716-4f8004ae22aa",
   "metadata": {},
   "outputs": [],
   "source": [
    "a = '''\n",
    "여기는 \\n문자열입니다.\n",
    "여러\\t줄을 작성할 수 있습니다.\n",
    "'''"
   ]
  },
  {
   "cell_type": "code",
   "execution_count": 33,
   "id": "06423323-a651-4201-ad69-80023d1a14cf",
   "metadata": {},
   "outputs": [
    {
     "name": "stdout",
     "output_type": "stream",
     "text": [
      "\n",
      "여기는 \n",
      "문자열입니다.\n",
      "여러\t줄을 작성할 수 있습니다.\n",
      "\n"
     ]
    }
   ],
   "source": [
    "print(a)"
   ]
  },
  {
   "cell_type": "code",
   "execution_count": 34,
   "id": "d6781288-da2b-45d5-9a24-6de3f19cf669",
   "metadata": {},
   "outputs": [
    {
     "name": "stdout",
     "output_type": "stream",
     "text": [
      "하나 둘 셋\n"
     ]
    }
   ],
   "source": [
    "print('하나', '둘', '셋')"
   ]
  },
  {
   "cell_type": "markdown",
   "id": "671aefbb-3e71-4e03-be47-61725d402506",
   "metadata": {},
   "source": [
    "#### string interpolation\n",
    "1. %-fomatting\n",
    "2. str.format()\n",
    "3. f-string"
   ]
  },
  {
   "cell_type": "code",
   "execution_count": 35,
   "id": "dc2558df-ac6c-4008-a8c0-508d08478a96",
   "metadata": {},
   "outputs": [],
   "source": [
    "age = 100"
   ]
  },
  {
   "cell_type": "code",
   "execution_count": 36,
   "id": "13cb42c1-b947-4674-9de6-12607c2af642",
   "metadata": {},
   "outputs": [
    {
     "name": "stdout",
     "output_type": "stream",
     "text": [
      "홍길동은 100살입니다.\n"
     ]
    }
   ],
   "source": [
    "print('홍길동은 %s살입니다.' % age)"
   ]
  },
  {
   "cell_type": "code",
   "execution_count": 38,
   "id": "a14fb0e0-8787-4880-b194-04ffa6bebd42",
   "metadata": {},
   "outputs": [
    {
     "name": "stdout",
     "output_type": "stream",
     "text": [
      "홍길동은 100살입니다.\n"
     ]
    }
   ],
   "source": [
    "print('홍길동은 {}살입니다.'.format(age))"
   ]
  },
  {
   "cell_type": "code",
   "execution_count": 39,
   "id": "c78602bd-0f08-4a2d-bc85-896322311e7c",
   "metadata": {},
   "outputs": [
    {
     "name": "stdout",
     "output_type": "stream",
     "text": [
      "홍길동은 100살입니다.\n"
     ]
    }
   ],
   "source": [
    "print(f'홍길동은 {age}살입니다.')"
   ]
  },
  {
   "cell_type": "markdown",
   "id": "0cc2a5dc-3250-48eb-b214-2ccf31203d04",
   "metadata": {},
   "source": [
    "### 2.연산자\n",
    "2.1 산술연산자"
   ]
  },
  {
   "cell_type": "code",
   "execution_count": 40,
   "id": "49e02817-e965-4daa-9d30-16eb465489ff",
   "metadata": {},
   "outputs": [],
   "source": [
    "a = 2\n",
    "b = 3"
   ]
  },
  {
   "cell_type": "code",
   "execution_count": 41,
   "id": "1062f934-7ec2-4eaa-9294-5d033ce1cb5e",
   "metadata": {},
   "outputs": [
    {
     "name": "stdout",
     "output_type": "stream",
     "text": [
      "5\n",
      "-1\n",
      "6\n",
      "0.6666666666666666\n"
     ]
    }
   ],
   "source": [
    "print(a + b)\n",
    "print(a - b)\n",
    "print(a * b)\n",
    "print(a / b)"
   ]
  },
  {
   "cell_type": "code",
   "execution_count": 42,
   "id": "fba40aa2-2949-45de-b1f1-60785f60323e",
   "metadata": {},
   "outputs": [
    {
     "name": "stdout",
     "output_type": "stream",
     "text": [
      "8\n"
     ]
    }
   ],
   "source": [
    "print(a**b)"
   ]
  },
  {
   "cell_type": "code",
   "execution_count": 45,
   "id": "cd8d23ae-5260-47d5-8ffd-34d202d69054",
   "metadata": {},
   "outputs": [
    {
     "name": "stdout",
     "output_type": "stream",
     "text": [
      "0\n",
      "2\n",
      "(0, 2)\n"
     ]
    }
   ],
   "source": [
    "# 나눈 몫\n",
    "print(a // b)\n",
    "# 나눈 나머지\n",
    "print(a % b)\n",
    "\n",
    "# mod\n",
    "print(divmod(a, b))"
   ]
  },
  {
   "cell_type": "markdown",
   "id": "b883b6d3-246a-4710-a846-4c22739989b9",
   "metadata": {},
   "source": [
    "### 2.2비교연산자"
   ]
  },
  {
   "cell_type": "code",
   "execution_count": 46,
   "id": "3294c2d1-1f54-4b13-bc17-d1b946877a60",
   "metadata": {},
   "outputs": [],
   "source": [
    "a = 5\n",
    "b = 10"
   ]
  },
  {
   "cell_type": "code",
   "execution_count": 49,
   "id": "5a0402b2-a466-4a7d-9a2f-c1245ed27e9a",
   "metadata": {},
   "outputs": [
    {
     "name": "stdout",
     "output_type": "stream",
     "text": [
      "False\n",
      "True\n",
      "False\n",
      "True\n"
     ]
    }
   ],
   "source": [
    "print(a > b)\n",
    "print(a < b)\n",
    "print(a >= b)\n",
    "print(a <= b)"
   ]
  },
  {
   "cell_type": "code",
   "execution_count": 51,
   "id": "3c671616-c0ae-4a29-99a2-a7b37a2a9f55",
   "metadata": {},
   "outputs": [
    {
     "name": "stdout",
     "output_type": "stream",
     "text": [
      "False\n",
      "True\n"
     ]
    }
   ],
   "source": [
    "print(a == b)\n",
    "print(a != b)"
   ]
  },
  {
   "cell_type": "code",
   "execution_count": 52,
   "id": "a506ef60-e7d9-4c79-8b1a-4981d8875f2f",
   "metadata": {},
   "outputs": [
    {
     "name": "stdout",
     "output_type": "stream",
     "text": [
      "True\n",
      "False\n"
     ]
    }
   ],
   "source": [
    "print('hi' == 'hi')\n",
    "print('Hi' == 'hi')"
   ]
  },
  {
   "cell_type": "markdown",
   "id": "8c7c6d2a-715f-46b2-a944-cad033ca8fe0",
   "metadata": {},
   "source": [
    "### 2.3논리연산자\n",
    "- and :양쪽 모두 `True`일 때, `True`를 반환\n",
    "- or :양쪽 모두 `Flase`일 때, `False`를 반환\n",
    "- not :값을 반대로 전환"
   ]
  },
  {
   "cell_type": "code",
   "execution_count": 55,
   "id": "446410cd-9497-4238-8112-7d12af416b20",
   "metadata": {},
   "outputs": [
    {
     "name": "stdout",
     "output_type": "stream",
     "text": [
      "True\n",
      "False\n",
      "False\n",
      "False\n"
     ]
    }
   ],
   "source": [
    "print(True and True)\n",
    "print(True and False)\n",
    "print(False and True)\n",
    "print(False and False)"
   ]
  },
  {
   "cell_type": "code",
   "execution_count": 56,
   "id": "1713f652-39d3-4680-addd-d84e1c923fab",
   "metadata": {},
   "outputs": [
    {
     "name": "stdout",
     "output_type": "stream",
     "text": [
      "True\n",
      "True\n",
      "True\n",
      "False\n"
     ]
    }
   ],
   "source": [
    "print(True or True)\n",
    "print(True or False)\n",
    "print(False or True)\n",
    "print(False or False)"
   ]
  },
  {
   "cell_type": "code",
   "execution_count": 57,
   "id": "73730b59-ba4a-4313-889e-184dd0673bf2",
   "metadata": {},
   "outputs": [
    {
     "name": "stdout",
     "output_type": "stream",
     "text": [
      "True\n",
      "False\n",
      "False\n"
     ]
    }
   ],
   "source": [
    "print(True)\n",
    "print(not True)\n",
    "\n",
    "a = True\n",
    "print(not a)"
   ]
  },
  {
   "cell_type": "code",
   "execution_count": 59,
   "id": "c4355c88-36fd-4471-b2fc-aee6a794456c",
   "metadata": {},
   "outputs": [
    {
     "name": "stdout",
     "output_type": "stream",
     "text": [
      "5\n",
      "0\n",
      "0\n",
      "0\n"
     ]
    }
   ],
   "source": [
    "# 단축평가(and)\n",
    "print(3 and 5)\n",
    "print(3 and 0)\n",
    "print(0 and 5)\n",
    "print(0 and 0)"
   ]
  },
  {
   "cell_type": "code",
   "execution_count": 60,
   "id": "ad7444f8-fc95-4269-a3e0-2546fc68f9cb",
   "metadata": {},
   "outputs": [
    {
     "name": "stdout",
     "output_type": "stream",
     "text": [
      "3\n",
      "3\n",
      "5\n",
      "0\n"
     ]
    }
   ],
   "source": [
    "# 단축평가(or)\n",
    "print(3 or 5)\n",
    "print(3 or 0)\n",
    "print(0 or 5)\n",
    "print(0 or 0)"
   ]
  },
  {
   "cell_type": "markdown",
   "id": "01b5a993-7773-426e-813f-df1636eb6252",
   "metadata": {},
   "source": [
    "### 2.4 복합연산자"
   ]
  },
  {
   "cell_type": "code",
   "execution_count": 63,
   "id": "7569ba2f-5129-4535-b01c-7b3ee207ca7a",
   "metadata": {},
   "outputs": [],
   "source": [
    "a = 2\n",
    "b = 3 "
   ]
  },
  {
   "cell_type": "code",
   "execution_count": 69,
   "id": "1f2ca621-8b33-4af3-97fe-c0819090187c",
   "metadata": {},
   "outputs": [],
   "source": [
    "a = a + b\n",
    "a = a - b\n",
    "a = a * b\n",
    "a = a // b\n",
    "a = a % b\n",
    "a = a ** b"
   ]
  },
  {
   "cell_type": "code",
   "execution_count": 72,
   "id": "2ebcaa96-e92f-4a44-b6f9-e9598d0113ee",
   "metadata": {},
   "outputs": [
    {
     "name": "stdout",
     "output_type": "stream",
     "text": [
      "8\n"
     ]
    }
   ],
   "source": [
    "print(a)"
   ]
  },
  {
   "cell_type": "code",
   "execution_count": 73,
   "id": "affac9cd-007a-483c-9da8-e17f4f316c0f",
   "metadata": {},
   "outputs": [
    {
     "name": "stdout",
     "output_type": "stream",
     "text": [
      "8\n"
     ]
    }
   ],
   "source": [
    "a = a + b\n",
    "a = a - b\n",
    "a = a * b\n",
    "a = a // b\n",
    "a = a % b\n",
    "a = a ** b\n",
    "print(a)"
   ]
  },
  {
   "cell_type": "markdown",
   "id": "97892ee8-d22b-4c32-be1c-fe02c7d77052",
   "metadata": {},
   "source": [
    "### 2.4 기타연산자"
   ]
  },
  {
   "cell_type": "code",
   "execution_count": 74,
   "id": "56055e21-f9ef-4256-a088-2d03546214b3",
   "metadata": {},
   "outputs": [],
   "source": [
    "a = 'hi'\n",
    "b = 'hello'"
   ]
  },
  {
   "cell_type": "code",
   "execution_count": 75,
   "id": "79f4e3dc-aef7-4fdf-9c91-55640be14be3",
   "metadata": {},
   "outputs": [
    {
     "data": {
      "text/plain": [
       "'hihello'"
      ]
     },
     "execution_count": 75,
     "metadata": {},
     "output_type": "execute_result"
    }
   ],
   "source": [
    "# concatenation\n",
    "a + b"
   ]
  },
  {
   "cell_type": "code",
   "execution_count": 76,
   "id": "dd1d4bbf-f664-48a8-b7d0-684a99f104e8",
   "metadata": {},
   "outputs": [],
   "source": [
    "a = [1, 2, 3]\n",
    "b = [9, 8 ,7]"
   ]
  },
  {
   "cell_type": "code",
   "execution_count": 77,
   "id": "62c5f2fd-7273-43c1-9b52-406f4c43d23f",
   "metadata": {},
   "outputs": [
    {
     "data": {
      "text/plain": [
       "[1, 2, 3, 9, 8, 7]"
      ]
     },
     "execution_count": 77,
     "metadata": {},
     "output_type": "execute_result"
    }
   ],
   "source": [
    "a + b"
   ]
  },
  {
   "cell_type": "code",
   "execution_count": 79,
   "id": "f0303a1c-397a-4aa4-a450-50be309b62eb",
   "metadata": {},
   "outputs": [
    {
     "name": "stdout",
     "output_type": "stream",
     "text": [
      "True\n",
      "False\n"
     ]
    }
   ],
   "source": [
    "# containment\n",
    "print('a' in 'apple')\n",
    "print('z' in 'apple')"
   ]
  },
  {
   "cell_type": "code",
   "execution_count": 80,
   "id": "08fc2e55-ce63-457e-9c7c-13afb861cbcd",
   "metadata": {},
   "outputs": [
    {
     "name": "stdout",
     "output_type": "stream",
     "text": [
      "True\n",
      "False\n"
     ]
    }
   ],
   "source": [
    "print(1 in [1, 2, 3])\n",
    "print(100 in [1, 2, 3])"
   ]
  },
  {
   "cell_type": "code",
   "execution_count": 81,
   "id": "74cb8331-a390-47cb-bc4e-c347c59e9d12",
   "metadata": {},
   "outputs": [
    {
     "name": "stdout",
     "output_type": "stream",
     "text": [
      "False\n"
     ]
    }
   ],
   "source": [
    "a = 123123\n",
    "b = 123123\n",
    "print(a is b)"
   ]
  },
  {
   "cell_type": "code",
   "execution_count": 82,
   "id": "59c762a7-0150-4976-af5e-d0327297c8c6",
   "metadata": {},
   "outputs": [
    {
     "name": "stdout",
     "output_type": "stream",
     "text": [
      "True\n"
     ]
    }
   ],
   "source": [
    "a = 10\n",
    "b = 10\n",
    "print(a is b)"
   ]
  },
  {
   "cell_type": "code",
   "execution_count": 85,
   "id": "894c7156-c845-4e37-91ae-346a4316008f",
   "metadata": {},
   "outputs": [
    {
     "name": "stdout",
     "output_type": "stream",
     "text": [
      "81\n",
      "-81\n"
     ]
    }
   ],
   "source": [
    "print((-3) ** 4)\n",
    "print(-3 ** 4)"
   ]
  },
  {
   "cell_type": "markdown",
   "id": "be7a936d-1ff7-4024-b5bf-6810501762f3",
   "metadata": {},
   "source": [
    "### 3.형변환\n",
    "3.1 암시적 형변환"
   ]
  },
  {
   "cell_type": "code",
   "execution_count": 86,
   "id": "1189f076-7fb3-4226-b066-50361926c7e0",
   "metadata": {},
   "outputs": [],
   "source": [
    "a = True\n",
    "b = False\n",
    "c = 1"
   ]
  },
  {
   "cell_type": "code",
   "execution_count": 88,
   "id": "f6a59756-7814-4f4f-a8f1-b450ae0b0d51",
   "metadata": {},
   "outputs": [
    {
     "name": "stdout",
     "output_type": "stream",
     "text": [
      "2\n",
      "1\n"
     ]
    }
   ],
   "source": [
    "print(a + c)\n",
    "print(b + c)"
   ]
  },
  {
   "cell_type": "code",
   "execution_count": 89,
   "id": "56a659cd-248d-4b6b-958e-b7ed59d18723",
   "metadata": {},
   "outputs": [],
   "source": [
    "int_num = 3\n",
    "float_num = 3\n",
    "complex_num = 3 +3j"
   ]
  },
  {
   "cell_type": "code",
   "execution_count": 90,
   "id": "a91fe2ae-48b7-4c89-9829-aacb64a21c72",
   "metadata": {},
   "outputs": [
    {
     "name": "stdout",
     "output_type": "stream",
     "text": [
      "6\n",
      "(6+3j)\n"
     ]
    }
   ],
   "source": [
    "print(int_num + float_num)\n",
    "print(int_num + complex_num)"
   ]
  },
  {
   "cell_type": "markdown",
   "id": "471b8870-7c2b-44a0-9b79-5988d08cf1b9",
   "metadata": {},
   "source": [
    "## 3.2 명시적 형변환"
   ]
  },
  {
   "cell_type": "code",
   "execution_count": 91,
   "id": "cac4caba-5fbe-4ce3-ab89-355cc94dfe96",
   "metadata": {},
   "outputs": [],
   "source": [
    "a = 1\n",
    "b = '번'"
   ]
  },
  {
   "cell_type": "code",
   "execution_count": 92,
   "id": "ff6942cd-3c4b-4da7-8fe5-8eccf8de3e09",
   "metadata": {},
   "outputs": [
    {
     "ename": "TypeError",
     "evalue": "unsupported operand type(s) for +: 'int' and 'str'",
     "output_type": "error",
     "traceback": [
      "\u001b[1;31m---------------------------------------------------------------------------\u001b[0m",
      "\u001b[1;31mTypeError\u001b[0m                                 Traceback (most recent call last)",
      "Cell \u001b[1;32mIn[92], line 1\u001b[0m\n\u001b[1;32m----> 1\u001b[0m \u001b[43ma\u001b[49m\u001b[43m \u001b[49m\u001b[38;5;241;43m+\u001b[39;49m\u001b[43m \u001b[49m\u001b[43mb\u001b[49m\n",
      "\u001b[1;31mTypeError\u001b[0m: unsupported operand type(s) for +: 'int' and 'str'"
     ]
    }
   ],
   "source": [
    "a + b"
   ]
  },
  {
   "cell_type": "code",
   "execution_count": 93,
   "id": "fbda866a-8b7f-49d8-9a05-cb561af3683a",
   "metadata": {},
   "outputs": [
    {
     "name": "stdout",
     "output_type": "stream",
     "text": [
      "1번\n"
     ]
    }
   ],
   "source": [
    "print(str(a) + b)"
   ]
  },
  {
   "cell_type": "code",
   "execution_count": 94,
   "id": "2a6bf49c-7381-43a7-b02a-249eb85b8e56",
   "metadata": {},
   "outputs": [],
   "source": [
    "a = '100'"
   ]
  },
  {
   "cell_type": "code",
   "execution_count": 95,
   "id": "84c91036-8053-4370-872d-66da55f6995b",
   "metadata": {},
   "outputs": [
    {
     "name": "stdout",
     "output_type": "stream",
     "text": [
      "<class 'int'>\n"
     ]
    }
   ],
   "source": [
    "print(type(int(a)))"
   ]
  },
  {
   "cell_type": "code",
   "execution_count": 98,
   "id": "3a29e732-cd4e-4bbf-9d34-4001c86b5c50",
   "metadata": {},
   "outputs": [
    {
     "name": "stdin",
     "output_type": "stream",
     "text": [
      " 123\n"
     ]
    },
    {
     "name": "stdout",
     "output_type": "stream",
     "text": [
      "<class 'int'>\n"
     ]
    }
   ],
   "source": [
    "age = int(input())\n",
    "print(type(age))"
   ]
  },
  {
   "cell_type": "code",
   "execution_count": 99,
   "id": "c091481a-1bd3-4da4-979c-95e4ffca7b5a",
   "metadata": {},
   "outputs": [],
   "source": [
    "a = '3.3'"
   ]
  },
  {
   "cell_type": "code",
   "execution_count": 100,
   "id": "194795af-eb19-4d78-85f6-d8f064d79ce3",
   "metadata": {},
   "outputs": [
    {
     "data": {
      "text/plain": [
       "float"
      ]
     },
     "execution_count": 100,
     "metadata": {},
     "output_type": "execute_result"
    }
   ],
   "source": [
    "type(float(a))"
   ]
  },
  {
   "cell_type": "code",
   "execution_count": 101,
   "id": "9069ed89-c00e-4473-ba24-16f8731ddb32",
   "metadata": {},
   "outputs": [],
   "source": [
    "a = 1\n",
    "b = 0\n",
    "c = 100"
   ]
  },
  {
   "cell_type": "code",
   "execution_count": 104,
   "id": "cd5e7187-0d25-45ab-937b-82e954716a67",
   "metadata": {},
   "outputs": [
    {
     "name": "stdout",
     "output_type": "stream",
     "text": [
      "True\n",
      "False\n",
      "True\n"
     ]
    }
   ],
   "source": [
    "print(bool(a))\n",
    "print(bool(b))\n",
    "print(bool(c))"
   ]
  },
  {
   "cell_type": "code",
   "execution_count": 105,
   "id": "5ba3f838-3aef-46c2-a12d-bd1e51e1f162",
   "metadata": {},
   "outputs": [
    {
     "name": "stdout",
     "output_type": "stream",
     "text": [
      "False\n",
      "True\n"
     ]
    }
   ],
   "source": [
    "print(bool(''))\n",
    "print(bool('a'))"
   ]
  },
  {
   "cell_type": "code",
   "execution_count": 106,
   "id": "511f348f-a07e-4961-8fa8-4bb7da57465d",
   "metadata": {},
   "outputs": [
    {
     "name": "stdout",
     "output_type": "stream",
     "text": [
      "False\n",
      "True\n"
     ]
    }
   ],
   "source": [
    "print(bool([]))\n",
    "print(bool([1, 2, 3]))"
   ]
  },
  {
   "cell_type": "markdown",
   "id": "3aa34c19-4ce0-4aa3-b259-8dce0a1eb287",
   "metadata": {},
   "source": [
    "## 4.시퀀스 자료형\n",
    "시퀀스는 데이터의 순서대로 나열된 자료구조.(순서대로 나열되어 있다는 것은 정렬된것과는 다르다.)\n",
    "1. 리스트(list)\n",
    "2. 튜플(tuple)\n",
    "3. 레인지(range)\n",
    "4. 문자열(string)"
   ]
  },
  {
   "cell_type": "markdown",
   "id": "988a3364-048f-40d4-804f-ac6fd92d0b2b",
   "metadata": {},
   "source": [
    "## 4.1 List(배열)\n",
    "- 선언:변수이름 =[value1, value2, value3]\n",
    "- 접근:변수이름[index]"
   ]
  },
  {
   "cell_type": "code",
   "execution_count": 107,
   "id": "ff6a107d-123a-439a-beb9-1aa97e191820",
   "metadata": {},
   "outputs": [
    {
     "name": "stdout",
     "output_type": "stream",
     "text": [
      "[]\n",
      "<class 'list'>\n"
     ]
    }
   ],
   "source": [
    "l = []\n",
    "print(l)\n",
    "print(type(l))"
   ]
  },
  {
   "cell_type": "code",
   "execution_count": 109,
   "id": "8bb92758-3d5a-4869-b627-0a3ca8b51781",
   "metadata": {},
   "outputs": [
    {
     "name": "stdout",
     "output_type": "stream",
     "text": [
      "['서울', '대전', '부산']\n",
      "<class 'list'>\n",
      "부산\n",
      "부산\n",
      "['서울', '대전', '제주']\n"
     ]
    }
   ],
   "source": [
    "location = ['서울', '대전', '부산']\n",
    "print(location)\n",
    "print(type(location))\n",
    "\n",
    "print(location[2])\n",
    "print(location[-1]) #오른쪽부터 원쪽으로 순서가 바뀐다\n",
    "\n",
    "location[2] = '제주'\n",
    "print(location)"
   ]
  },
  {
   "cell_type": "markdown",
   "id": "0c05b51a-5f8c-4ecb-8d47-a033e4b25863",
   "metadata": {},
   "source": [
    "## 4.2 Tuple(튜플)\n",
    "- 선언: 변수이름 = (value1, value2, value3)\n",
    "- 접근:변수이름[index]\n",
    "- List와 유사하지만 수정불가능(immutable)하다."
   ]
  },
  {
   "cell_type": "code",
   "execution_count": 110,
   "id": "e1ddddda-7530-4bff-a541-fc600cc7aba7",
   "metadata": {},
   "outputs": [
    {
     "name": "stdout",
     "output_type": "stream",
     "text": [
      "(1, 2, 3)\n",
      "<class 'tuple'>\n",
      "3\n"
     ]
    }
   ],
   "source": [
    "t = (1, 2, 3)\n",
    "print(t)\n",
    "print(type(t))\n",
    "print(t[2])"
   ]
  },
  {
   "cell_type": "code",
   "execution_count": 111,
   "id": "fe46ac06-c1f6-41bb-a06f-0056a5df451f",
   "metadata": {},
   "outputs": [
    {
     "ename": "TypeError",
     "evalue": "'tuple' object does not support item assignment",
     "output_type": "error",
     "traceback": [
      "\u001b[1;31m---------------------------------------------------------------------------\u001b[0m",
      "\u001b[1;31mTypeError\u001b[0m                                 Traceback (most recent call last)",
      "Cell \u001b[1;32mIn[111], line 1\u001b[0m\n\u001b[1;32m----> 1\u001b[0m \u001b[43mt\u001b[49m\u001b[43m[\u001b[49m\u001b[38;5;241;43m2\u001b[39;49m\u001b[43m]\u001b[49m \u001b[38;5;241m=\u001b[39m \u001b[38;5;241m100\u001b[39m\n",
      "\u001b[1;31mTypeError\u001b[0m: 'tuple' object does not support item assignment"
     ]
    }
   ],
   "source": [
    "t[2] = 100"
   ]
  },
  {
   "cell_type": "code",
   "execution_count": 114,
   "id": "7efea4ef-7ea6-43c6-b35f-6a02a6d1d8ac",
   "metadata": {},
   "outputs": [
    {
     "name": "stdout",
     "output_type": "stream",
     "text": [
      "<class 'tuple'>\n",
      "2\n"
     ]
    }
   ],
   "source": [
    "result = divmod(9, 4)\n",
    "print(type(result))\n",
    "print(result[0])"
   ]
  },
  {
   "cell_type": "code",
   "execution_count": 117,
   "id": "0aa6b9eb-aeb1-44bd-95e7-64690412b5cd",
   "metadata": {},
   "outputs": [
    {
     "name": "stdout",
     "output_type": "stream",
     "text": [
      "1 2\n",
      "2 1\n"
     ]
    }
   ],
   "source": [
    "x, y = (1, 2)\n",
    "print(x, y)\n",
    "\n",
    "x, y = (y, x)\n",
    "print(x, y)"
   ]
  },
  {
   "cell_type": "markdown",
   "id": "0cac4fbd-aa86-4b98-a643-22377489c565",
   "metadata": {},
   "source": [
    "### 4.3 range\n",
    "- range(n): 0부터 n-1까지 범위\n",
    "- range(n, m): n부터 m-1까지 범위\n",
    "- range(n, m, s): n부터 m-1까지 범위, +s만큼 증가하는 범위"
   ]
  },
  {
   "cell_type": "code",
   "execution_count": 118,
   "id": "b85d0a13-cf72-48b2-8ccf-cdcfafe4dd7d",
   "metadata": {},
   "outputs": [
    {
     "name": "stdout",
     "output_type": "stream",
     "text": [
      "range(0, 5)\n",
      "<class 'range'>\n"
     ]
    }
   ],
   "source": [
    "r = range(5)\n",
    "print(r)\n",
    "print(type(r))"
   ]
  },
  {
   "cell_type": "code",
   "execution_count": 119,
   "id": "416bef6a-1e4f-459d-9b01-c6a011b37b02",
   "metadata": {},
   "outputs": [
    {
     "name": "stdout",
     "output_type": "stream",
     "text": [
      "range(5, 15)\n"
     ]
    }
   ],
   "source": [
    "r = range (5, 15)\n",
    "print(r)"
   ]
  },
  {
   "cell_type": "code",
   "execution_count": 120,
   "id": "a2f26f8a-e874-4079-b20f-739347f0231a",
   "metadata": {},
   "outputs": [
    {
     "name": "stdout",
     "output_type": "stream",
     "text": [
      "range(5, 15, 2)\n"
     ]
    }
   ],
   "source": [
    "r= range(5, 15, 2)\n",
    "print(r)"
   ]
  },
  {
   "cell_type": "code",
   "execution_count": 121,
   "id": "e1ac71a7-7210-4349-a7b4-e22c8880cfff",
   "metadata": {},
   "outputs": [
    {
     "data": {
      "text/plain": [
       "[5, 7, 9, 11, 13]"
      ]
     },
     "execution_count": 121,
     "metadata": {},
     "output_type": "execute_result"
    }
   ],
   "source": [
    "list(r)"
   ]
  },
  {
   "cell_type": "markdown",
   "id": "7ac6c6ec-3b9b-49ef-b32a-4b72a3f9287f",
   "metadata": {},
   "source": [
    "### 4.4 String\n",
    "기본 데이터 구조 참고"
   ]
  },
  {
   "cell_type": "markdown",
   "id": "f970a364-ec83-4c1b-8eae-a620424548f0",
   "metadata": {},
   "source": [
    "### 4.5 시퀀스에서 사용 가능한 연산/함수"
   ]
  },
  {
   "cell_type": "code",
   "execution_count": 122,
   "id": "cd42d45c-dcd1-44d8-8ddd-f842c3beda42",
   "metadata": {},
   "outputs": [],
   "source": [
    "my_list = [1, 2, 3, 4, 5]\n",
    "my_tuple = (11, 22, 33, 44, 55)\n",
    "my_range = range(1, 10, 2)\n",
    "my_string = '일이삼사오'"
   ]
  },
  {
   "cell_type": "code",
   "execution_count": 123,
   "id": "049fc5c6-73c8-4d8a-aa95-9a8ef57f8726",
   "metadata": {},
   "outputs": [
    {
     "name": "stdout",
     "output_type": "stream",
     "text": [
      "2\n",
      "22\n",
      "3\n",
      "이\n"
     ]
    }
   ],
   "source": [
    "# indexing\n",
    "print(my_list[1])\n",
    "print(my_tuple[1])\n",
    "print(my_range[1])\n",
    "print(my_string[1])"
   ]
  },
  {
   "cell_type": "code",
   "execution_count": 125,
   "id": "45251a07-9a82-402a-a242-1f8aa212ad73",
   "metadata": {},
   "outputs": [
    {
     "name": "stdout",
     "output_type": "stream",
     "text": [
      "[2, 3]\n",
      "(22, 33)\n",
      "range(3, 7, 2)\n",
      "이삼\n"
     ]
    }
   ],
   "source": [
    "# slicing\n",
    "print(my_list[1:3])\n",
    "print(my_tuple[1:3])\n",
    "print(my_range[1:3])\n",
    "print(my_string[1:3])"
   ]
  },
  {
   "cell_type": "code",
   "execution_count": 127,
   "id": "29220741-1a02-4579-a1d9-dbad5798ddd5",
   "metadata": {},
   "outputs": [
    {
     "name": "stdout",
     "output_type": "stream",
     "text": [
      "[2, 4]\n",
      "range(5, 11, 4)\n"
     ]
    }
   ],
   "source": [
    "print(my_list[1:4:2])\n",
    "print(my_range[2:7:2])"
   ]
  },
  {
   "cell_type": "code",
   "execution_count": 130,
   "id": "bd5a4bee-ef66-4946-a11e-65aaf773add9",
   "metadata": {},
   "outputs": [
    {
     "name": "stdout",
     "output_type": "stream",
     "text": [
      "[1, 2, 3]\n",
      "[4, 5]\n"
     ]
    }
   ],
   "source": [
    "print(my_list[ :3])\n",
    "print(my_list[3 :])"
   ]
  },
  {
   "cell_type": "code",
   "execution_count": 132,
   "id": "cc577ad4-9ccc-4c08-862a-1d5552d17483",
   "metadata": {},
   "outputs": [
    {
     "name": "stdout",
     "output_type": "stream",
     "text": [
      "False\n",
      "True\n",
      "True\n",
      "True\n"
     ]
    }
   ],
   "source": [
    "# in\n",
    "print(11 in my_list)\n",
    "print(11 in my_tuple)\n",
    "print(1 in my_range)\n",
    "print('일' in my_string)"
   ]
  },
  {
   "cell_type": "code",
   "execution_count": 134,
   "id": "1c30eac8-6c14-413f-9595-c509c50f8f1a",
   "metadata": {},
   "outputs": [
    {
     "name": "stdout",
     "output_type": "stream",
     "text": [
      "True\n",
      "True\n",
      "False\n",
      "True\n"
     ]
    }
   ],
   "source": [
    "# not in\n",
    "print(11 not in my_list)\n",
    "print(100 not in  my_tuple)\n",
    "print(1 not in my_range)\n",
    "print('구' not in my_string)"
   ]
  },
  {
   "cell_type": "code",
   "execution_count": 136,
   "id": "07f99f99-64ff-43c0-bbf8-c3d1dc7a7803",
   "metadata": {},
   "outputs": [
    {
     "name": "stdout",
     "output_type": "stream",
     "text": [
      "[1, 2, 3, 4, 5, 1, 2, 3, 4, 5]\n",
      "(11, 22, 33, 44, 55, 1, 2, 3)\n"
     ]
    }
   ],
   "source": [
    "# concatenation\n",
    "print(my_list + [1, 2, 3, 4, 5])\n",
    "print(my_tuple + (1, 2, 3))"
   ]
  },
  {
   "cell_type": "code",
   "execution_count": 139,
   "id": "0796dd28-f0b5-4496-b34d-1577e929f07c",
   "metadata": {},
   "outputs": [
    {
     "name": "stdout",
     "output_type": "stream",
     "text": [
      "일이삼사오일이삼사오일이삼사오\n",
      "[1, 2, 3, 4, 5, 1, 2, 3, 4, 5, 1, 2, 3, 4, 5]\n",
      "[[0, 0, 0, 0, 0, 0, 0, 0, 0, 0], [0, 0, 0, 0, 0, 0, 0, 0, 0, 0], [0, 0, 0, 0, 0, 0, 0, 0, 0, 0], [0, 0, 0, 0, 0, 0, 0, 0, 0, 0], [0, 0, 0, 0, 0, 0, 0, 0, 0, 0], [0, 0, 0, 0, 0, 0, 0, 0, 0, 0], [0, 0, 0, 0, 0, 0, 0, 0, 0, 0], [0, 0, 0, 0, 0, 0, 0, 0, 0, 0], [0, 0, 0, 0, 0, 0, 0, 0, 0, 0], [0, 0, 0, 0, 0, 0, 0, 0, 0, 0]]\n"
     ]
    }
   ],
   "source": [
    "# *\n",
    "print(my_string * 3)\n",
    "print(my_list * 3)\n",
    "\n",
    "print([[0] * 10] *10)"
   ]
  },
  {
   "cell_type": "code",
   "execution_count": 140,
   "id": "d5354679-5adf-41a4-bfa6-0bec872266f6",
   "metadata": {},
   "outputs": [
    {
     "data": {
      "text/plain": [
       "5"
      ]
     },
     "execution_count": 140,
     "metadata": {},
     "output_type": "execute_result"
    }
   ],
   "source": [
    "len(my_list)"
   ]
  },
  {
   "cell_type": "code",
   "execution_count": 141,
   "id": "475097bf-90f1-4821-af52-6de2aea46355",
   "metadata": {},
   "outputs": [
    {
     "data": {
      "text/plain": [
       "11"
      ]
     },
     "execution_count": 141,
     "metadata": {},
     "output_type": "execute_result"
    }
   ],
   "source": [
    "min(my_tuple)"
   ]
  },
  {
   "cell_type": "code",
   "execution_count": 143,
   "id": "4e910bb9-4423-4baa-b90b-e90d605ac31b",
   "metadata": {},
   "outputs": [
    {
     "data": {
      "text/plain": [
       "9"
      ]
     },
     "execution_count": 143,
     "metadata": {},
     "output_type": "execute_result"
    }
   ],
   "source": [
    "max(my_range)"
   ]
  },
  {
   "cell_type": "code",
   "execution_count": 145,
   "id": "5520153d-501f-490a-ae8c-623fa0302e39",
   "metadata": {},
   "outputs": [
    {
     "data": {
      "text/plain": [
       "1"
      ]
     },
     "execution_count": 145,
     "metadata": {},
     "output_type": "execute_result"
    }
   ],
   "source": [
    "my_list.count(1)"
   ]
  },
  {
   "cell_type": "markdown",
   "id": "75782416-2080-4608-835f-a40307da64fa",
   "metadata": {},
   "source": [
    "## 5.시퀀스데이터가 아닌 자료구조\n",
    "### 5.1 set\n",
    "수학에서 사용하는 집합과 동일하게 처리(중복된 값이 없음)\n",
    "- 선언: 변수이름 = {value1, value2, value3}"
   ]
  },
  {
   "cell_type": "code",
   "execution_count": 146,
   "id": "244daeb0-8667-45c6-989c-f69db4c73150",
   "metadata": {},
   "outputs": [],
   "source": [
    "my_set_a = {1, 2, 3, 4, 5}\n",
    "my_set_b = {1, 3, 5, 7, 9}"
   ]
  },
  {
   "cell_type": "code",
   "execution_count": 149,
   "id": "09a9749f-5ab4-4a67-ab5b-5d26e3866870",
   "metadata": {},
   "outputs": [
    {
     "name": "stdout",
     "output_type": "stream",
     "text": [
      "{2, 4}\n",
      "{1, 2, 3, 4, 5, 7, 9}\n",
      "{1, 3, 5}\n"
     ]
    }
   ],
   "source": [
    "print(my_set_a - my_set_b)\n",
    "print(my_set_a | my_set_b)\n",
    "print(my_set_a & my_set_b)"
   ]
  },
  {
   "cell_type": "code",
   "execution_count": 150,
   "id": "b394c9ff-e2be-4c75-b54d-e6ba093ecb10",
   "metadata": {},
   "outputs": [
    {
     "name": "stdout",
     "output_type": "stream",
     "text": [
      "{1, 2, 3, 4, 5, 6, 7}\n"
     ]
    }
   ],
   "source": [
    "my_list = {1, 2, 3, 1, 4, 5, 6, 7, 3, 2, 5, 6, 2}\n",
    "print(set(my_list))"
   ]
  },
  {
   "cell_type": "markdown",
   "id": "df026818-2e9d-4e0d-9668-8b71641d5ed9",
   "metadata": {},
   "source": [
    "## 5.2 dictionary\n",
    "- 선언 : 변수이름 = {key1: value1, key2: value2, key3: value3}\n",
    "- 접근 : 변수이름[key]\n",
    "- dictionary는 key와 value가 쌍으로 이루어져있다.\n",
    "- key에는 immutable한 모든 값을 사용가능, (불변값: string, integer...)\n",
    "- value에는 모든 데이터 가능. (list, dict도 가능)"
   ]
  },
  {
   "cell_type": "code",
   "execution_count": 154,
   "id": "f81c1237-d501-49ca-8fd3-81ecd99b642e",
   "metadata": {},
   "outputs": [
    {
     "data": {
      "text/plain": [
       "'02'"
      ]
     },
     "execution_count": 154,
     "metadata": {},
     "output_type": "execute_result"
    }
   ],
   "source": [
    "my_dict = {'서울': '02', '경기': '031'}\n",
    "my_dict['서울']"
   ]
  },
  {
   "cell_type": "code",
   "execution_count": 158,
   "id": "b43dc53d-aa82-4abd-a628-b765b6af3f66",
   "metadata": {},
   "outputs": [
    {
     "name": "stdout",
     "output_type": "stream",
     "text": [
      "10\n",
      "4\n",
      "11\n"
     ]
    }
   ],
   "source": [
    "dict_a = {\n",
    "    'name': 'yoogeon',\n",
    "    'age': 10,\n",
    "    'location': 'ilsan',\n",
    "    'numbers': [1, 2, 3, 4, 5],\n",
    "    'friends' : {\n",
    "        'a':10,\n",
    "        'b':11,\n",
    "    },\n",
    "}\n",
    "\n",
    "print(dict_a['age'])\n",
    "print(dict_a['numbers'][3])\n",
    "print(dict_a['friends']['b'])"
   ]
  },
  {
   "cell_type": "code",
   "execution_count": 159,
   "id": "29201e29-f666-493b-b265-acd84560cc6c",
   "metadata": {},
   "outputs": [
    {
     "data": {
      "text/plain": [
       "dict_keys(['name', 'age', 'location', 'numbers', 'friends'])"
      ]
     },
     "execution_count": 159,
     "metadata": {},
     "output_type": "execute_result"
    }
   ],
   "source": [
    "dict_a.keys()"
   ]
  },
  {
   "cell_type": "code",
   "execution_count": 161,
   "id": "574a85ed-ab9a-476a-a378-89f20d3d0936",
   "metadata": {},
   "outputs": [
    {
     "data": {
      "text/plain": [
       "dict_values(['yoogeon', 10, 'ilsan', [1, 2, 3, 4, 5], {'a': 10, 'b': 11}])"
      ]
     },
     "execution_count": 161,
     "metadata": {},
     "output_type": "execute_result"
    }
   ],
   "source": [
    "dict_a.values()"
   ]
  },
  {
   "cell_type": "markdown",
   "id": "738a9b93-6e24-42e8-a283-aa98f578fb0a",
   "metadata": {},
   "source": [
    "## 데이터 타입\n",
    "\n",
    "1. Number\n",
    "2. Boolean\n",
    "3. String\n",
    "\n",
    "## 자료구조\n",
    "\n",
    "- 시퀀스 자료형\n",
    "    1. [List] :mutable\n",
    "    2. (Tuple):immutable\n",
    "    3. range():immutable\n",
    "    4. 'String':immutable\n",
    "\n",
    "- 시퀀스가 아닌 자료형\n",
    "    1. (Set): mutable\n",
    "    2. (Dict: ionary): mutable"
   ]
  },
  {
   "cell_type": "code",
   "execution_count": null,
   "id": "61c49f9d-c45b-4028-bdec-74c6abf22d9a",
   "metadata": {},
   "outputs": [],
   "source": []
  }
 ],
 "metadata": {
  "kernelspec": {
   "display_name": "Python 3 (ipykernel)",
   "language": "python",
   "name": "python3"
  },
  "language_info": {
   "codemirror_mode": {
    "name": "ipython",
    "version": 3
   },
   "file_extension": ".py",
   "mimetype": "text/x-python",
   "name": "python",
   "nbconvert_exporter": "python",
   "pygments_lexer": "ipython3",
   "version": "3.11.2"
  }
 },
 "nbformat": 4,
 "nbformat_minor": 5
}

{
 "cells": [
  {
   "cell_type": "markdown",
   "id": "47293eb4-df4e-487c-acd9-065e7d03c401",
   "metadata": {},
   "source": [
    "# 객체지향 프로그래밍(OOP)\n",
    "\n",
    "- 클래스(class): 같은 종류의 집단에 속하는 속성(attribute)과 행위(method)를 정의한 것\n",
    "- 인스턴스(instance): 클래스를 실제로 메모리상에 할당한 것\n",
    "- 속성(attribute): 클래스/인스턴스가 가지고 있는 데이터/값\n",
    "- 행위(method): 클래스/인스턴스가 가지고 있는 함수/기능"
   ]
  },
  {
   "cell_type": "code",
   "execution_count": 1,
   "id": "110dc541-82fc-4d0c-8190-84986fb59e6d",
   "metadata": {},
   "outputs": [],
   "source": [
    "number = 1 + 1j"
   ]
  },
  {
   "cell_type": "code",
   "execution_count": 2,
   "id": "645b52b9-f451-4e33-8071-61982bf29e04",
   "metadata": {},
   "outputs": [
    {
     "data": {
      "text/plain": [
       "complex"
      ]
     },
     "execution_count": 2,
     "metadata": {},
     "output_type": "execute_result"
    }
   ],
   "source": [
    "type(number)"
   ]
  },
  {
   "cell_type": "code",
   "execution_count": 3,
   "id": "72ea73fd-5a22-4434-9eac-1af0aae7bd6f",
   "metadata": {},
   "outputs": [
    {
     "name": "stdout",
     "output_type": "stream",
     "text": [
      "1.0\n",
      "1.0\n"
     ]
    }
   ],
   "source": [
    "print(number.real)\n",
    "print(number.imag)"
   ]
  },
  {
   "cell_type": "code",
   "execution_count": 5,
   "id": "8856df47-78f7-450c-9194-7e5f4d032be4",
   "metadata": {},
   "outputs": [
    {
     "name": "stdout",
     "output_type": "stream",
     "text": [
      "<class 'list'>\n",
      "[4, 3, 2, 1]\n"
     ]
    }
   ],
   "source": [
    "my_list = [1, 2, 3, 4]\n",
    "print(type(my_list))\n",
    "my_list.reverse()\n",
    "print(my_list)"
   ]
  },
  {
   "cell_type": "code",
   "execution_count": 6,
   "id": "ade5f7b3-3e3f-43c0-99f2-c33a0555f75c",
   "metadata": {},
   "outputs": [
    {
     "name": "stdout",
     "output_type": "stream",
     "text": [
      "핸드폰이 켜짐.\n"
     ]
    }
   ],
   "source": [
    "power = False\n",
    "number = '010-1234-1234'\n",
    "book = {\n",
    "    '홍길동': '010-1111-1111',\n",
    "    '이순신': '010-2222-2222',\n",
    "}\n",
    "\n",
    "def on():\n",
    "    global power\n",
    "    if power == False:\n",
    "        power = True\n",
    "        print('핸드폰이 켜짐.')\n",
    "\n",
    "on()"
   ]
  },
  {
   "cell_type": "markdown",
   "id": "c7fb4d2d-2f8e-4306-8b2c-5022b9800eae",
   "metadata": {},
   "source": [
    "## Class\n",
    "\n",
    "-클래스 선언\n",
    "\n",
    "```python\n",
    "class ClassName:\n",
    "    attribute = value\n",
    "\n",
    "    def method_name(self):\n",
    "        code\n",
    "```\n",
    "\n",
    "- 인스턴스화\n",
    "  ```python\n",
    "    ClassName()\n",
    "```"
   ]
  },
  {
   "cell_type": "code",
   "execution_count": 7,
   "id": "05303023-8e74-443d-8d30-c551d553b585",
   "metadata": {},
   "outputs": [],
   "source": [
    "# 선언\n",
    "class MyClass:\n",
    "    name = 'kim'\n",
    "    \n",
    "    def hello(self):\n",
    "        return 'hello'"
   ]
  },
  {
   "cell_type": "code",
   "execution_count": 10,
   "id": "944479ce-553b-45d0-aedf-5f8a1952ca6e",
   "metadata": {},
   "outputs": [
    {
     "name": "stdout",
     "output_type": "stream",
     "text": [
      "<class '__main__.MyClass'>\n",
      "park\n",
      "hello\n",
      "park\n"
     ]
    },
    {
     "ename": "TypeError",
     "evalue": "MyClass.hello() missing 1 required positional argument: 'self'",
     "output_type": "error",
     "traceback": [
      "\u001b[1;31m---------------------------------------------------------------------------\u001b[0m",
      "\u001b[1;31mTypeError\u001b[0m                                 Traceback (most recent call last)",
      "Cell \u001b[1;32mIn[10], line 11\u001b[0m\n\u001b[0;32m      9\u001b[0m b\u001b[38;5;241m.\u001b[39mname \u001b[38;5;241m=\u001b[39m \u001b[38;5;124m'\u001b[39m\u001b[38;5;124mpark\u001b[39m\u001b[38;5;124m'\u001b[39m\n\u001b[0;32m     10\u001b[0m \u001b[38;5;28mprint\u001b[39m(b\u001b[38;5;241m.\u001b[39mname)\n\u001b[1;32m---> 11\u001b[0m \u001b[38;5;28mprint\u001b[39m(\u001b[43mb\u001b[49m\u001b[38;5;241;43m.\u001b[39;49m\u001b[43mhello\u001b[49m\u001b[43m(\u001b[49m\u001b[43m)\u001b[49m)\n",
      "\u001b[1;31mTypeError\u001b[0m: MyClass.hello() missing 1 required positional argument: 'self'"
     ]
    }
   ],
   "source": [
    "# 인스턴스화\n",
    "a = MyClass()\n",
    "print(type(a))\n",
    "\n",
    "print(a.name)\n",
    "print(a.hello())\n",
    "\n",
    "b = MyClass\n",
    "b.name = 'park'\n",
    "print(b.name)\n",
    "print(b.hello())"
   ]
  },
  {
   "cell_type": "code",
   "execution_count": 20,
   "id": "970e3aca-84ec-4bb9-a831-839701ca1788",
   "metadata": {},
   "outputs": [],
   "source": [
    "class Phone:\n",
    "    power = False\n",
    "    number = '010-0000-0000'\n",
    "    book = {}\n",
    "    model = ''\n",
    "    \n",
    "    def on(self):\n",
    "        if self.power == False:\n",
    "            self.power = True\n",
    "            \n",
    "    def off(self):\n",
    "        if self.power == True:\n",
    "            self.power = False\n",
    "            \n",
    "    def call(self, target):\n",
    "        if self.power == True:\n",
    "            print(f'제 번호는 {self.number}입니다.')\n",
    "            print(f'{target}로 전화 거는 중')\n",
    "        else:\n",
    "            print('핸드폰을 켜주세요.')\n",
    "\n",
    "        "
   ]
  },
  {
   "cell_type": "code",
   "execution_count": 21,
   "id": "f4a8f2af-1476-430e-8ca6-3e8b42b6bc14",
   "metadata": {},
   "outputs": [],
   "source": [
    "my_phone = Phone()\n",
    "your_phone = Phone()"
   ]
  },
  {
   "cell_type": "code",
   "execution_count": 22,
   "id": "a14ef403-b275-4220-8e04-4a6ecba8dd32",
   "metadata": {},
   "outputs": [
    {
     "data": {
      "text/plain": [
       "'010-0000-0000'"
      ]
     },
     "execution_count": 22,
     "metadata": {},
     "output_type": "execute_result"
    }
   ],
   "source": [
    "my_phone.number"
   ]
  },
  {
   "cell_type": "code",
   "execution_count": 23,
   "id": "1a41c383-8f46-447c-b9af-1ae30d448431",
   "metadata": {},
   "outputs": [
    {
     "name": "stdout",
     "output_type": "stream",
     "text": [
      "010-1234-1234\n"
     ]
    }
   ],
   "source": [
    "my_phone.number = '010-1234-1234'\n",
    "print(my_phone.number)"
   ]
  },
  {
   "cell_type": "code",
   "execution_count": 24,
   "id": "c0049bde-81ec-48ee-a65d-db123f6cf3e6",
   "metadata": {},
   "outputs": [
    {
     "name": "stdout",
     "output_type": "stream",
     "text": [
      "010-0000-0000\n"
     ]
    }
   ],
   "source": [
    "print(your_phone.number)"
   ]
  },
  {
   "cell_type": "code",
   "execution_count": 26,
   "id": "31ff3bab-080f-4c49-85a1-12ecab4527eb",
   "metadata": {},
   "outputs": [
    {
     "name": "stdout",
     "output_type": "stream",
     "text": [
      "True\n",
      "False\n",
      "False\n"
     ]
    }
   ],
   "source": [
    "my_phone.on()\n",
    "print(my_phone.power)\n",
    "print(your_phone.power)\n",
    "\n",
    "my_phone.off()\n",
    "print(my_phone.power)"
   ]
  },
  {
   "cell_type": "code",
   "execution_count": 29,
   "id": "73be548c-d2a7-4a7f-8d60-01fb722b8501",
   "metadata": {},
   "outputs": [
    {
     "name": "stdout",
     "output_type": "stream",
     "text": [
      "제 번호는 010-1234-1234입니다.\n",
      "112로 전화 거는 중\n",
      "핸드폰을 켜주세요.\n"
     ]
    }
   ],
   "source": [
    "my_phone.on()\n",
    "my_phone.call('112')\n",
    "\n",
    "your_phone.call('119')"
   ]
  },
  {
   "cell_type": "code",
   "execution_count": 31,
   "id": "095e577a-a836-4f9a-ace7-ec189edeba2b",
   "metadata": {},
   "outputs": [],
   "source": [
    "# 연습\n",
    "class MyList:\n",
    "    data = []\n",
    "\n",
    "    def append(self, item):\n",
    "        #self.data.append(item)\n",
    "        self.data = self.data + [item]\n",
    "\n",
    "    def pop(self):\n",
    "        self.data = self.data[:-1]\n",
    "    "
   ]
  },
  {
   "cell_type": "code",
   "execution_count": 32,
   "id": "fa122734-4418-4f82-a634-54a0c4cd4183",
   "metadata": {},
   "outputs": [
    {
     "name": "stdout",
     "output_type": "stream",
     "text": [
      "[]\n",
      "[5]\n",
      "[5, 10]\n",
      "[5]\n"
     ]
    }
   ],
   "source": [
    "list_a = MyList()\n",
    "print(list_a.data) # => []\n",
    "\n",
    "list_a.append(5) # => [5]\n",
    "print(list_a.data)\n",
    "list_a.append(10) # => [5, 10]\n",
    "print(list_a.data\n",
    "     )\n",
    "list_a.pop() # => [5]\n",
    "print(list_a.data)"
   ]
  },
  {
   "cell_type": "code",
   "execution_count": 33,
   "id": "7ab49aee-a8e6-4e42-951b-b74636478985",
   "metadata": {},
   "outputs": [
    {
     "name": "stdout",
     "output_type": "stream",
     "text": [
      "['일', '이', '삼']\n"
     ]
    }
   ],
   "source": [
    "list_b = MyList()\n",
    "list_b.append('일')\n",
    "list_b.append('이')\n",
    "list_b.append('삼')\n",
    "print(list_b.data)"
   ]
  },
  {
   "cell_type": "markdown",
   "id": "34201c16-6b6c-4958-a3bd-7f078180bc87",
   "metadata": {},
   "source": [
    "# 생성자, 소멸자\n",
    "\n",
    "```python\n",
    "class MyClass:\n",
    "    def __init__(self):\n",
    "        pass\n",
    "    def __del__(self):\n",
    "        pass\n",
    "```"
   ]
  },
  {
   "cell_type": "code",
   "execution_count": 42,
   "id": "26cf0e26-b256-4b36-b489-cd665cd83083",
   "metadata": {},
   "outputs": [],
   "source": [
    "class Person:\n",
    "    name = 'noname'\n",
    "    \n",
    "    def __init__(self, name='익명'):\n",
    "        self.name = name"
   ]
  },
  {
   "cell_type": "code",
   "execution_count": 43,
   "id": "9af15b8e-eaa0-45c8-ac12-52abb977ad80",
   "metadata": {},
   "outputs": [
    {
     "name": "stdout",
     "output_type": "stream",
     "text": [
      "<__main__.Person object at 0x0000025410B72B90>\n",
      "kim\n",
      "park\n",
      "익명\n",
      "010-1234-1234\n"
     ]
    }
   ],
   "source": [
    "p1 = Person('kim')\n",
    "print(p1)\n",
    "print(p1.name)\n",
    "\n",
    "p2 = Person('park')\n",
    "print(p2.name)\n",
    "\n",
    "p3 = Person()\n",
    "print(p3.name)\n",
    "\n",
    "p1.phone = '010-1234-1234'\n",
    "print(p1.phone)"
   ]
  },
  {
   "cell_type": "code",
   "execution_count": 53,
   "id": "2a837325-e319-4347-90a1-48bdc6617b06",
   "metadata": {},
   "outputs": [],
   "source": [
    "# Circle\n",
    "\n",
    "class Circle:\n",
    "    pi = 3.14\n",
    "    \n",
    "    def __init__(self, r, x, y):\n",
    "        self.r = r\n",
    "        self.x = x\n",
    "        self.y = y\n",
    "    def area(self):\n",
    "        return self.pi * self.r ** 2\n",
    "    def move(self, x, y):\n",
    "        self.x = x\n",
    "        self.y = y\n",
    "        print(f'원의 중심이 {self.x}, {self.y}로 이동했습니다.')\n",
    "\n",
    "    def center(self):\n",
    "        return [self.x, self.y]\n",
    "\n",
    "    def round(self):\n",
    "        return self.r * self.pi * 2"
   ]
  },
  {
   "cell_type": "code",
   "execution_count": 54,
   "id": "ec75e4f4-b276-4b07-aec9-16097eb6a516",
   "metadata": {},
   "outputs": [
    {
     "name": "stdout",
     "output_type": "stream",
     "text": [
      "[5, 5]\n",
      "3\n",
      "28.26\n",
      "원의 중심이 0, 0로 이동했습니다.\n",
      "[0, 0]\n",
      "[0, 0]\n",
      "10\n",
      "314.0\n",
      "원의 중심이 0, 0로 이동했습니다.\n",
      "[0, 0]\n"
     ]
    },
    {
     "ename": "TypeError",
     "evalue": "Circle.__init__() missing 2 required positional arguments: 'x' and 'y'",
     "output_type": "error",
     "traceback": [
      "\u001b[1;31m---------------------------------------------------------------------------\u001b[0m",
      "\u001b[1;31mTypeError\u001b[0m                                 Traceback (most recent call last)",
      "Cell \u001b[1;32mIn[54], line 15\u001b[0m\n\u001b[0;32m     12\u001b[0m c2\u001b[38;5;241m.\u001b[39mmove(\u001b[38;5;241m0\u001b[39m, \u001b[38;5;241m0\u001b[39m)\n\u001b[0;32m     13\u001b[0m \u001b[38;5;28mprint\u001b[39m(c2\u001b[38;5;241m.\u001b[39mcenter())\n\u001b[1;32m---> 15\u001b[0m c3 \u001b[38;5;241m=\u001b[39m \u001b[43mCircle\u001b[49m\u001b[43m(\u001b[49m\u001b[38;5;241;43m5\u001b[39;49m\u001b[43m)\u001b[49m\n\u001b[0;32m     16\u001b[0m \u001b[38;5;28mprint\u001b[39m(c3\u001b[38;5;241m.\u001b[39mcenter())\n\u001b[0;32m     17\u001b[0m \u001b[38;5;28mprint\u001b[39m(c3\u001b[38;5;241m.\u001b[39mround())\n",
      "\u001b[1;31mTypeError\u001b[0m: Circle.__init__() missing 2 required positional arguments: 'x' and 'y'"
     ]
    }
   ],
   "source": [
    "c1 = Circle(3, 5, 5)\n",
    "print(c1.center())\n",
    "print(c1.r)\n",
    "print(c1.area())\n",
    "c1.move(0, 0)\n",
    "print(c1.center())\n",
    "\n",
    "c2 = Circle(10, 0, 0)\n",
    "print(c2.center())\n",
    "print(c2.r)\n",
    "print(c2.area())\n",
    "c2.move(0, 0)\n",
    "print(c2.center())\n",
    "\n",
    "c3 = Circle(5)\n",
    "print(c3.center())\n",
    "print(c3.round())"
   ]
  },
  {
   "cell_type": "code",
   "execution_count": 70,
   "id": "cfc0a908-ad20-4f81-9b76-d89922c19bfa",
   "metadata": {},
   "outputs": [],
   "source": [
    "class Point:\n",
    "    \n",
    "    def __init__(self, x, y):\n",
    "        self.x = x\n",
    "        self.y = y\n",
    "\n",
    "    def info(self):\n",
    "        return (self.x, self.y)\n",
    "\n",
    "# Circle\n",
    "class Circle:\n",
    "    def __init__(self, point, r):\n",
    "        self.point = point\n",
    "        self.r = r\n",
    "        \n",
    "    def info(self):\n",
    "        return (self.point.x, self.point.y, self.r)\n",
    "\n",
    "    def move(self, x, y):\n",
    "        self.point.x = x\n",
    "        self.point.y = y"
   ]
  },
  {
   "cell_type": "code",
   "execution_count": 71,
   "id": "eb4b87e6-ae5f-4106-af4c-307e87bd5769",
   "metadata": {},
   "outputs": [
    {
     "name": "stdout",
     "output_type": "stream",
     "text": [
      "(3, 3)\n",
      "(3, 3)\n",
      "(3, 3, 10)\n",
      "(5, 5, 10)\n",
      "(5, 5)\n"
     ]
    }
   ],
   "source": [
    "p1 = Point(3, 3)\n",
    "print(p1.info())\n",
    "\n",
    "c1 = Circle(p1, 10)\n",
    "print(c1.point.info())\n",
    "print(c1.info())\n",
    "c1.move(5, 5)\n",
    "print(c1.info())\n",
    "print(p1.info())"
   ]
  },
  {
   "cell_type": "code",
   "execution_count": 72,
   "id": "6e99d08b-fa0b-4915-afea-8bfbb9f4c0e6",
   "metadata": {},
   "outputs": [
    {
     "name": "stdout",
     "output_type": "stream",
     "text": [
      "(5, 5, 5)\n"
     ]
    }
   ],
   "source": [
    "c2 = Circle(p1, 5)\n",
    "print(c2.info())"
   ]
  },
  {
   "cell_type": "markdown",
   "id": "581a4efa-7618-4189-b725-fe5ff84c750a",
   "metadata": {},
   "source": [
    "## 클래스변수\n",
    "- 클래스 선언 블록 최상단에 위치\n",
    "\n",
    "## 인스턴스 변수\n",
    "- 인스턴스 내부에서 생성한 변수(`self.variable = `)\n",
    "\n",
    "```python\n",
    "class MyClass:\n",
    "    class_variable = '클래스변수'\n",
    "    \n",
    "    def__init__(self, name):\n",
    "        self.instance_variable = '인스턴스변수'\n",
    "\n",
    "```"
   ]
  },
  {
   "cell_type": "code",
   "execution_count": 73,
   "id": "bdd39a9e-601d-457f-9aea-91efa179b5ff",
   "metadata": {},
   "outputs": [],
   "source": [
    "class Person:\n",
    "    name = '홍길동'\n",
    "    phone = '010-1234-1234'\n",
    "    \n",
    "    def __init__(self, name):\n",
    "        self.name =name"
   ]
  },
  {
   "cell_type": "code",
   "execution_count": 74,
   "id": "8f68522d-9af8-41eb-88d6-dca10e0afc3a",
   "metadata": {},
   "outputs": [
    {
     "name": "stdout",
     "output_type": "stream",
     "text": [
      "유건\n",
      "홍길동\n",
      "010-1234-1234\n"
     ]
    }
   ],
   "source": [
    "p1 = Person('유건')\n",
    "print(p1.name)\n",
    "print(Person.name)\n",
    "\n",
    "print(p1.phone)"
   ]
  },
  {
   "cell_type": "markdown",
   "id": "56cfb372-e4fd-462d-8a68-455c2147e14a",
   "metadata": {},
   "source": [
    "### 클래스메소드, 인스턴스메소드, 스테틱메소드\n",
    "\n",
    "```python\n",
    "class MyClass:\n",
    "    def instance_method(self):\n",
    "        pass\n",
    "    @classmethod\n",
    "    def class_method(cls):\n",
    "        pass\n",
    "    @staticmethod\n",
    "    def static_method():\n",
    "        pass\n",
    "```"
   ]
  },
  {
   "cell_type": "code",
   "execution_count": 78,
   "id": "2edc5ef1-af87-4503-a09f-63ae1dc3f76f",
   "metadata": {},
   "outputs": [],
   "source": [
    "class MyClass:\n",
    "    def instance_method(self):\n",
    "        return self\n",
    "        \n",
    "    @classmethod\n",
    "    def class_method(cls):\n",
    "        return cls\n",
    "        \n",
    "    @staticmethod\n",
    "    def static_method():\n",
    "        return 'hello'"
   ]
  },
  {
   "cell_type": "code",
   "execution_count": 80,
   "id": "90abaa8a-e8a1-4260-a456-4316c5ea2abe",
   "metadata": {},
   "outputs": [
    {
     "name": "stdout",
     "output_type": "stream",
     "text": [
      "<__main__.MyClass object at 0x0000025410588BD0>\n",
      "<class '__main__.MyClass'>\n",
      "<class '__main__.MyClass'>\n",
      "hello\n"
     ]
    }
   ],
   "source": [
    "c = MyClass()\n",
    "\n",
    "print(c.instance_method())\n",
    "print(c.class_method())\n",
    "print(MyClass.class_method())\n",
    "print(c.static_method())"
   ]
  },
  {
   "cell_type": "code",
   "execution_count": 92,
   "id": "2ee921a9-35e3-4524-ac2a-2a721911cb87",
   "metadata": {},
   "outputs": [],
   "source": [
    "class Puppy:\n",
    "    num_of_puppy = 0\n",
    "    \n",
    "    def __init__(self, name):\n",
    "        self.name = name\n",
    "        Puppy.num_of_puppy += 1\n",
    "\n",
    "    @classmethod\n",
    "    def get_status(cls):\n",
    "        print(f'현재 강아지는 {cls.num_of_puppy}마리입니다.')\n",
    "\n",
    "    @staticmethod\n",
    "    def bark(msg):\n",
    "        return msg\n",
    "        \n",
    "    def bark2(self, msg):\n",
    "        return f'{self.name}은 {msg}합니다.'"
   ]
  },
  {
   "cell_type": "code",
   "execution_count": 93,
   "id": "057a7d84-91df-451a-8c56-70da8868554a",
   "metadata": {},
   "outputs": [
    {
     "name": "stdout",
     "output_type": "stream",
     "text": [
      "3\n",
      "3\n",
      "현재 강아지는 3마리입니다.\n",
      "현재 강아지는 3마리입니다.\n",
      "멍멍\n",
      "그르릉\n",
      "인절미은 멍멍합니다.\n"
     ]
    }
   ],
   "source": [
    "p1 = Puppy('인절미')\n",
    "p2 = Puppy('백구')\n",
    "p3 = Puppy('흰둥이')\n",
    "\n",
    "print(Puppy.num_of_puppy)\n",
    "print(p1.num_of_puppy)\n",
    "\n",
    "Puppy.get_status()\n",
    "p1.get_status()\n",
    "\n",
    "print(p1.bark('멍멍'))\n",
    "print(p2.bark('그르릉'))\n",
    "\n",
    "print(p1.bark2('멍멍'))"
   ]
  },
  {
   "cell_type": "markdown",
   "id": "eb04057e-8da1-4401-9d6d-a6e80ed05ef1",
   "metadata": {},
   "source": [
    "## 상속"
   ]
  },
  {
   "cell_type": "code",
   "execution_count": 104,
   "id": "472eb9c5-6191-440b-ac5d-3e2a67aca81a",
   "metadata": {},
   "outputs": [],
   "source": [
    "class Person:\n",
    "    def __init__(self, name):\n",
    "        self.name = name\n",
    "    def greeting(self):\n",
    "        print(f'안녕하세요. {self.name}입니다.')"
   ]
  },
  {
   "cell_type": "code",
   "execution_count": 105,
   "id": "e3970a50-af43-4175-9003-7ed37d3cda13",
   "metadata": {},
   "outputs": [
    {
     "data": {
      "text/plain": [
       "<bound method Person.greeting of <__main__.Person object at 0x000002541058B7D0>>"
      ]
     },
     "execution_count": 105,
     "metadata": {},
     "output_type": "execute_result"
    }
   ],
   "source": [
    "p1 = Person('홍길동')\n",
    "p2 = Person('이순신')\n",
    "\n",
    "p1.greeting"
   ]
  },
  {
   "cell_type": "code",
   "execution_count": 108,
   "id": "e0eb4617-2ffc-4a16-b360-3c2c6ba2e07a",
   "metadata": {},
   "outputs": [],
   "source": [
    "class Student:\n",
    "    def __init__(self, name, student_id):\n",
    "        self.name = name\n",
    "        self.student_id = student_id\n",
    "\n",
    "    def greeting(self):\n",
    "        print(f'안녕하세요. {self.name}입니다.')"
   ]
  },
  {
   "cell_type": "code",
   "execution_count": 101,
   "id": "0576e08e-82af-4e20-87dd-c4d6544d4eda",
   "metadata": {},
   "outputs": [
    {
     "name": "stdout",
     "output_type": "stream",
     "text": [
      "안녕하세요. 유건입니다.\n"
     ]
    }
   ],
   "source": [
    "s1 = Student('유건', '123123')\n",
    "s1.greeting()"
   ]
  },
  {
   "cell_type": "code",
   "execution_count": 102,
   "id": "adde399e-bc8b-4340-a7b8-f695751fecdf",
   "metadata": {},
   "outputs": [],
   "source": [
    "class Soldier:\n",
    "    def __init__(self, name, soldier_id):\n",
    "        self.name = name\n",
    "        self.soldier_id = soldier_id\n",
    "\n",
    "    def greeting(self):\n",
    "        print(f'충성!. {self.name}입니다.')"
   ]
  },
  {
   "cell_type": "code",
   "execution_count": 103,
   "id": "17043f12-c3ad-4b63-84c2-2addbe6a185a",
   "metadata": {},
   "outputs": [
    {
     "name": "stdout",
     "output_type": "stream",
     "text": [
      "충성!. 국방이입니다.\n"
     ]
    }
   ],
   "source": [
    "s2 = Soldier('국방이', '11-111111')\n",
    "s2.greeting()"
   ]
  },
  {
   "cell_type": "code",
   "execution_count": 106,
   "id": "a1692b33-72d0-411c-b2d4-5af935e05d00",
   "metadata": {},
   "outputs": [],
   "source": [
    "class Student:\n",
    "   def __init__(self, name, student_id):\n",
    "        self.name = name\n",
    "        self.student_id = student_id"
   ]
  },
  {
   "cell_type": "code",
   "execution_count": 109,
   "id": "06a8fde6-0f0b-4a9a-9c76-978fa134f6ca",
   "metadata": {},
   "outputs": [
    {
     "name": "stdout",
     "output_type": "stream",
     "text": [
      "안녕하세요. 유건입니다.\n"
     ]
    }
   ],
   "source": [
    "s1 = Student('유건', '123123')\n",
    "s1.greeting()"
   ]
  },
  {
   "cell_type": "code",
   "execution_count": 110,
   "id": "e51b3c90-e2f0-4690-8310-6a0b69527e27",
   "metadata": {},
   "outputs": [],
   "source": [
    "class Soldier(Person):\n",
    "    def __init__(self, name, soldier_id):\n",
    "        self.name = name\n",
    "        self.soldier_id = soldier_id\n",
    "\n",
    "    def greeting(self):\n",
    "        print(f'충성!. {self.name}입니다.')"
   ]
  },
  {
   "cell_type": "code",
   "execution_count": 112,
   "id": "1ef95324-abc1-4af8-9c22-d9648e83feed",
   "metadata": {},
   "outputs": [],
   "source": [
    "class Person:\n",
    "    def __init__(self, name, email, phone, location):\n",
    "        self.name = name\n",
    "        self.email = email\n",
    "        self.phone = phone\n",
    "        self.location = location\n",
    "\n",
    "class Student(Person):\n",
    "    def __init__(self, name, email, phone, location, student_id):\n",
    "        self.name = name\n",
    "        self.email = email\n",
    "        self.phone = phone\n",
    "        self.location = location\n",
    "        self.student_id - student_id\n",
    "\n",
    "class Soldier(Person):\n",
    "    def __init__(self, name, email, phone, location, soldier_id):\n",
    "        # super() => Person(부모클래스)\n",
    "        super().__init__(self, name, email, phone, location)\n",
    "        self.soldier_id = soldier_id"
   ]
  },
  {
   "cell_type": "code",
   "execution_count": 113,
   "id": "90361a3d-1cf1-4f73-83f7-653defde6eff",
   "metadata": {},
   "outputs": [],
   "source": [
    "class Person:\n",
    "    def __init__(self, name):\n",
    "        self.name = name\n",
    "    def breath(self):\n",
    "        print('ㅎㅎ')"
   ]
  },
  {
   "cell_type": "code",
   "execution_count": 115,
   "id": "fa72ad8c-fcc5-4e6c-9b34-f40f1b81d57f",
   "metadata": {},
   "outputs": [],
   "source": [
    "class Mom(Person):\n",
    "    gene = 'xx'\n",
    "\n",
    "    def swim(self):\n",
    "        print('얽우얽')"
   ]
  },
  {
   "cell_type": "code",
   "execution_count": 120,
   "id": "926ccb42-54d8-453c-a8e8-cc4cc19605d5",
   "metadata": {},
   "outputs": [],
   "source": [
    "class Dad(Person):\n",
    "    gene = 'xy'\n",
    "\n",
    "    def run(self):\n",
    "        print('다다다')"
   ]
  },
  {
   "cell_type": "code",
   "execution_count": 121,
   "id": "304c87ff-d100-461d-87c6-5bc7e22b9df8",
   "metadata": {},
   "outputs": [],
   "source": [
    "class Baby(Dad, Mom):\n",
    "    pass"
   ]
  },
  {
   "cell_type": "code",
   "execution_count": 122,
   "id": "b7959085-74a8-4ea1-9946-26a478c72467",
   "metadata": {},
   "outputs": [
    {
     "name": "stdout",
     "output_type": "stream",
     "text": [
      "금쪽이\n",
      "xy\n",
      "얽우얽\n",
      "다다다\n",
      "ㅎㅎ\n"
     ]
    }
   ],
   "source": [
    "b = Baby('금쪽이')\n",
    "print(b.name)\n",
    "print(b.gene)\n",
    "\n",
    "b.swim()\n",
    "b.run()\n",
    "b.breath()"
   ]
  },
  {
   "cell_type": "code",
   "execution_count": null,
   "id": "49bbafa5-384f-4f7b-b8c6-eb8f4852622e",
   "metadata": {},
   "outputs": [],
   "source": []
  }
 ],
 "metadata": {
  "kernelspec": {
   "display_name": "Python 3 (ipykernel)",
   "language": "python",
   "name": "python3"
  },
  "language_info": {
   "codemirror_mode": {
    "name": "ipython",
    "version": 3
   },
   "file_extension": ".py",
   "mimetype": "text/x-python",
   "name": "python",
   "nbconvert_exporter": "python",
   "pygments_lexer": "ipython3",
   "version": "3.11.2"
  }
 },
 "nbformat": 4,
 "nbformat_minor": 5
}

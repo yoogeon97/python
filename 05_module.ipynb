{
 "cells": [
  {
   "cell_type": "markdown",
   "id": "f9122016-7c54-49d7-af1a-0486472021c7",
   "metadata": {},
   "source": [
    "# 모듈"
   ]
  },
  {
   "cell_type": "code",
   "execution_count": 41,
   "id": "971437f8-f3ca-4410-a210-84c4fe2fe9be",
   "metadata": {},
   "outputs": [],
   "source": [
    "import fibo1"
   ]
  },
  {
   "cell_type": "code",
   "execution_count": 42,
   "id": "277aa3df-dae3-4fbf-bb12-2fc0db3cfa3b",
   "metadata": {},
   "outputs": [
    {
     "name": "stdout",
     "output_type": "stream",
     "text": [
      "<module 'fibo1' from 'C:\\\\Users\\\\Yoo\\\\Desktop\\\\camp31\\\\python\\\\fibo1.py'>\n"
     ]
    }
   ],
   "source": [
    "print(fibo1)"
   ]
  },
  {
   "cell_type": "code",
   "execution_count": 43,
   "id": "8b130523-bedd-4c26-bbdf-4d67225f55e2",
   "metadata": {},
   "outputs": [
    {
     "data": {
      "text/plain": [
       "89"
      ]
     },
     "execution_count": 43,
     "metadata": {},
     "output_type": "execute_result"
    }
   ],
   "source": [
    "fibo1.fib_loop(10)"
   ]
  },
  {
   "cell_type": "code",
   "execution_count": 44,
   "id": "accaa492-5c27-433d-b54d-17a7dfafa39b",
   "metadata": {},
   "outputs": [
    {
     "data": {
      "text/plain": [
       "8"
      ]
     },
     "execution_count": 44,
     "metadata": {},
     "output_type": "execute_result"
    }
   ],
   "source": [
    "fibo1.fib_rec(5)"
   ]
  },
  {
   "cell_type": "markdown",
   "id": "99acea7f-20ab-440b-a03c-fd99e7e8be15",
   "metadata": {},
   "source": [
    "# 패키지\n",
    "\n",
    "    myPackage/\n",
    "        __init__.py\n",
    "        math/\n",
    "            __init__.py\n",
    "            fibo.py\n",
    "            fomula.py\n",
    "            \n",
    "패키지 안에 `__init__.py`파일이 있어야 패키지로 인식"
   ]
  },
  {
   "cell_type": "code",
   "execution_count": 11,
   "id": "2d3266bd-044e-47dc-9403-7df57969ca28",
   "metadata": {},
   "outputs": [],
   "source": [
    "import myPackage"
   ]
  },
  {
   "cell_type": "code",
   "execution_count": 12,
   "id": "0541bee0-30db-4009-83fd-146b33a7d9bd",
   "metadata": {},
   "outputs": [
    {
     "name": "stdout",
     "output_type": "stream",
     "text": [
      "<module 'myPackage' from 'C:\\\\Users\\\\Yoo\\\\Desktop\\\\camp31\\\\python\\\\myPackage\\\\__init__.py'>\n"
     ]
    }
   ],
   "source": [
    "print(myPackage)"
   ]
  },
  {
   "cell_type": "code",
   "execution_count": 13,
   "id": "73ff26f7-289c-4aef-ab0f-0d3ace517fe3",
   "metadata": {},
   "outputs": [],
   "source": [
    "from myPackage.math import fomula"
   ]
  },
  {
   "cell_type": "code",
   "execution_count": 14,
   "id": "17f471df-5fb2-487e-8072-0595aa05994c",
   "metadata": {},
   "outputs": [
    {
     "data": {
      "text/plain": [
       "3.14"
      ]
     },
     "execution_count": 14,
     "metadata": {},
     "output_type": "execute_result"
    }
   ],
   "source": [
    "fomula.pi"
   ]
  },
  {
   "cell_type": "code",
   "execution_count": 15,
   "id": "96ea983b-f2cd-4f80-84ca-e80744ee310d",
   "metadata": {},
   "outputs": [
    {
     "data": {
      "text/plain": [
       "2"
      ]
     },
     "execution_count": 15,
     "metadata": {},
     "output_type": "execute_result"
    }
   ],
   "source": [
    "fomula.my_max(1, 2)"
   ]
  },
  {
   "cell_type": "code",
   "execution_count": 17,
   "id": "40c2743d-8f5b-4bb9-8fd6-571423315d76",
   "metadata": {},
   "outputs": [
    {
     "name": "stdout",
     "output_type": "stream",
     "text": [
      "2\n",
      "3.14\n"
     ]
    }
   ],
   "source": [
    "import myPackage\n",
    "\n",
    "print(myPackage.math.fomula.my_max(1, 2))\n",
    "print(myPackage.math.fomula.pi)"
   ]
  },
  {
   "cell_type": "code",
   "execution_count": 30,
   "id": "b109569e-d536-4b5a-9731-a1f5bf596fd2",
   "metadata": {},
   "outputs": [],
   "source": [
    "from myPackage.math.fibo import *"
   ]
  },
  {
   "cell_type": "code",
   "execution_count": 31,
   "id": "afeae433-a695-4276-9ec4-954dcef2df17",
   "metadata": {},
   "outputs": [
    {
     "data": {
      "text/plain": [
       "8"
      ]
     },
     "execution_count": 31,
     "metadata": {},
     "output_type": "execute_result"
    }
   ],
   "source": [
    "fib_loop(5)"
   ]
  },
  {
   "cell_type": "code",
   "execution_count": 32,
   "id": "15437fc4-9e65-41f7-b669-4d498b791668",
   "metadata": {},
   "outputs": [
    {
     "data": {
      "text/plain": [
       "5"
      ]
     },
     "execution_count": 32,
     "metadata": {},
     "output_type": "execute_result"
    }
   ],
   "source": [
    "fib_rec(4)"
   ]
  },
  {
   "cell_type": "code",
   "execution_count": 27,
   "id": "7feef376-6f6b-429e-9333-14cb714270ef",
   "metadata": {},
   "outputs": [
    {
     "name": "stdout",
     "output_type": "stream",
     "text": [
      "1234\n",
      "<module 'myPackage.math.fomula' from 'C:\\\\Users\\\\Yoo\\\\Desktop\\\\camp31\\\\python\\\\myPackage\\\\math\\\\fomula.py'>\n"
     ]
    }
   ],
   "source": [
    "fomula = 1234\n",
    "from myPackage.math import fomula as f\n",
    "\n",
    "print(fomula)\n",
    "print(f)"
   ]
  },
  {
   "cell_type": "markdown",
   "id": "ffe4ebf6-0bc2-4627-bd50-cfa13ebbe9c8",
   "metadata": {},
   "source": [
    "# 파이썬 내장 패키지"
   ]
  },
  {
   "cell_type": "code",
   "execution_count": 45,
   "id": "4267279a-86cc-4952-8daa-ae92b30b45f1",
   "metadata": {},
   "outputs": [],
   "source": [
    "import math"
   ]
  },
  {
   "cell_type": "code",
   "execution_count": 46,
   "id": "118d77bc-ecba-4e71-bde4-6739a885f936",
   "metadata": {},
   "outputs": [
    {
     "data": {
      "text/plain": [
       "3.141592653589793"
      ]
     },
     "execution_count": 46,
     "metadata": {},
     "output_type": "execute_result"
    }
   ],
   "source": [
    "math.pi"
   ]
  },
  {
   "cell_type": "code",
   "execution_count": 47,
   "id": "bd733665-b8b7-41a1-83ee-9a5429a7816a",
   "metadata": {},
   "outputs": [],
   "source": [
    "pi = 3.141592"
   ]
  },
  {
   "cell_type": "code",
   "execution_count": 49,
   "id": "424e03d6-8a50-4bc1-8650-7396f682d4d0",
   "metadata": {},
   "outputs": [
    {
     "data": {
      "text/plain": [
       "2.718281828459045"
      ]
     },
     "execution_count": 49,
     "metadata": {},
     "output_type": "execute_result"
    }
   ],
   "source": [
    "math.e"
   ]
  },
  {
   "cell_type": "code",
   "execution_count": 50,
   "id": "6dce71f1-be78-49d9-9221-ed7f5b462097",
   "metadata": {},
   "outputs": [
    {
     "data": {
      "text/plain": [
       "3.0"
      ]
     },
     "execution_count": 50,
     "metadata": {},
     "output_type": "execute_result"
    }
   ],
   "source": [
    "math.sqrt(9)"
   ]
  },
  {
   "cell_type": "code",
   "execution_count": 51,
   "id": "0cd20939-e895-4fa2-83c7-5b60e3dd6786",
   "metadata": {},
   "outputs": [
    {
     "data": {
      "text/plain": [
       "3628800"
      ]
     },
     "execution_count": 51,
     "metadata": {},
     "output_type": "execute_result"
    }
   ],
   "source": [
    "math.factorial(10)"
   ]
  },
  {
   "cell_type": "markdown",
   "id": "855a0547-8ce9-4099-949e-07294aa32260",
   "metadata": {},
   "source": [
    "## random"
   ]
  },
  {
   "cell_type": "code",
   "execution_count": 52,
   "id": "1c1af4e5-1698-487a-a095-eba661638d2c",
   "metadata": {},
   "outputs": [],
   "source": [
    "import random"
   ]
  },
  {
   "cell_type": "code",
   "execution_count": 53,
   "id": "7805c249-35bd-44ab-a56e-172b3195b77e",
   "metadata": {},
   "outputs": [
    {
     "data": {
      "text/plain": [
       "0.5086882743712401"
      ]
     },
     "execution_count": 53,
     "metadata": {},
     "output_type": "execute_result"
    }
   ],
   "source": [
    "random.random()"
   ]
  },
  {
   "cell_type": "code",
   "execution_count": 56,
   "id": "706762cc-d61a-46f3-90ea-438efdcccca0",
   "metadata": {},
   "outputs": [
    {
     "data": {
      "text/plain": [
       "4"
      ]
     },
     "execution_count": 56,
     "metadata": {},
     "output_type": "execute_result"
    }
   ],
   "source": [
    "random.randint(1, 10)"
   ]
  },
  {
   "cell_type": "code",
   "execution_count": 58,
   "id": "a8b9b59d-ce53-41cd-8b46-3b57cd4ced66",
   "metadata": {},
   "outputs": [
    {
     "data": {
      "text/plain": [
       "0.9560342718892494"
      ]
     },
     "execution_count": 58,
     "metadata": {},
     "output_type": "execute_result"
    }
   ],
   "source": [
    "# seed\n",
    "\n",
    "random.seed(2)\n",
    "random.random()"
   ]
  },
  {
   "cell_type": "code",
   "execution_count": 59,
   "id": "42929d1d-739a-48dc-bd87-7ccfe84c4c49",
   "metadata": {},
   "outputs": [
    {
     "name": "stdout",
     "output_type": "stream",
     "text": [
      "[1, 2, 3, 4, 5]\n",
      "[3, 2, 4, 5, 1]\n"
     ]
    }
   ],
   "source": [
    "a = [1, 2, 3, 4, 5]\n",
    "print(a)\n",
    "\n",
    "random.shuffle(a)\n",
    "print(a)"
   ]
  },
  {
   "cell_type": "code",
   "execution_count": 60,
   "id": "33c45c92-39f5-4a0c-a295-0f474355f63f",
   "metadata": {},
   "outputs": [
    {
     "data": {
      "text/plain": [
       "'가위'"
      ]
     },
     "execution_count": 60,
     "metadata": {},
     "output_type": "execute_result"
    }
   ],
   "source": [
    "rcp = ['가위', '바위', '보']\n",
    "random.choice(rcp)"
   ]
  },
  {
   "cell_type": "code",
   "execution_count": 61,
   "id": "517ea918-56e7-493e-969e-8c4cb047f639",
   "metadata": {},
   "outputs": [
    {
     "data": {
      "text/plain": [
       "[43, 20, 17, 39, 14, 42]"
      ]
     },
     "execution_count": 61,
     "metadata": {},
     "output_type": "execute_result"
    }
   ],
   "source": [
    "random.sample(range(1, 46), 6)"
   ]
  },
  {
   "cell_type": "markdown",
   "id": "022e9ebc-be20-4383-8779-74eda94856df",
   "metadata": {},
   "source": [
    "## datetime"
   ]
  },
  {
   "cell_type": "code",
   "execution_count": 62,
   "id": "17aa39da-022e-4bf5-87bc-b71220fc09ef",
   "metadata": {},
   "outputs": [],
   "source": [
    "from datetime import datetime"
   ]
  },
  {
   "cell_type": "code",
   "execution_count": 65,
   "id": "9a0c6cec-0201-4877-9926-8b2de173478b",
   "metadata": {},
   "outputs": [
    {
     "data": {
      "text/plain": [
       "datetime.datetime(2023, 10, 11, 10, 21, 31, 55718)"
      ]
     },
     "execution_count": 65,
     "metadata": {},
     "output_type": "execute_result"
    }
   ],
   "source": [
    "datetime.now()"
   ]
  },
  {
   "cell_type": "code",
   "execution_count": 66,
   "id": "7a3c98b1-54fa-44a8-be4c-9a2b108cbf9d",
   "metadata": {},
   "outputs": [
    {
     "name": "stdout",
     "output_type": "stream",
     "text": [
      "2023-10-11 10:23:40.950623\n"
     ]
    }
   ],
   "source": [
    "today = datetime.today()\n",
    "print(today)"
   ]
  },
  {
   "cell_type": "code",
   "execution_count": 67,
   "id": "7ea74407-fd17-4325-8e58-d4377346468f",
   "metadata": {},
   "outputs": [
    {
     "data": {
      "text/plain": [
       "datetime.datetime(2023, 10, 11, 1, 23, 55, 861625)"
      ]
     },
     "execution_count": 67,
     "metadata": {},
     "output_type": "execute_result"
    }
   ],
   "source": [
    "datetime.utcnow()"
   ]
  },
  {
   "cell_type": "code",
   "execution_count": 70,
   "id": "64f3c90e-11e2-4ea4-b3eb-582e8d7cde81",
   "metadata": {},
   "outputs": [
    {
     "data": {
      "text/plain": [
       "'2023년 10월 11일 Wed'"
      ]
     },
     "execution_count": 70,
     "metadata": {},
     "output_type": "execute_result"
    }
   ],
   "source": [
    "now = datetime.now()\n",
    "now.strftime('%Y년 %m월 %d일 %a')"
   ]
  },
  {
   "cell_type": "code",
   "execution_count": 71,
   "id": "12a219a3-77dd-433b-9a1b-ba23ff7c409d",
   "metadata": {},
   "outputs": [
    {
     "data": {
      "text/plain": [
       "2023"
      ]
     },
     "execution_count": 71,
     "metadata": {},
     "output_type": "execute_result"
    }
   ],
   "source": [
    "now.year"
   ]
  },
  {
   "cell_type": "code",
   "execution_count": 72,
   "id": "49dc8fdf-af7a-4a45-9f9a-e74246cdf4f3",
   "metadata": {},
   "outputs": [
    {
     "data": {
      "text/plain": [
       "11"
      ]
     },
     "execution_count": 72,
     "metadata": {},
     "output_type": "execute_result"
    }
   ],
   "source": [
    "now.day"
   ]
  },
  {
   "cell_type": "code",
   "execution_count": 73,
   "id": "b3f333d2-4073-4c39-81da-43ce265029b5",
   "metadata": {},
   "outputs": [
    {
     "data": {
      "text/plain": [
       "2"
      ]
     },
     "execution_count": 73,
     "metadata": {},
     "output_type": "execute_result"
    }
   ],
   "source": [
    "# => 0~6 / 월~일\n",
    "now.weekday()"
   ]
  },
  {
   "cell_type": "code",
   "execution_count": 75,
   "id": "1b55bdbc-fb6e-475a-bb0d-ce1951abb8e4",
   "metadata": {},
   "outputs": [
    {
     "name": "stdout",
     "output_type": "stream",
     "text": [
      "2023-01-01 00:00:00\n"
     ]
    }
   ],
   "source": [
    "birth = datetime(2023, 1, 1)\n",
    "print(birth)"
   ]
  },
  {
   "cell_type": "code",
   "execution_count": 76,
   "id": "b46ac6c8-7b8b-462e-bbfd-c629c7a5db4a",
   "metadata": {},
   "outputs": [],
   "source": [
    "from datetime import timedelta"
   ]
  },
  {
   "cell_type": "code",
   "execution_count": 77,
   "id": "f665a393-f967-4540-9779-90b59091d95b",
   "metadata": {},
   "outputs": [
    {
     "name": "stdout",
     "output_type": "stream",
     "text": [
      "3 days, 0:00:00\n"
     ]
    }
   ],
   "source": [
    "future = timedelta(days=3)\n",
    "print(future)"
   ]
  },
  {
   "cell_type": "code",
   "execution_count": 78,
   "id": "23a53a57-b246-4dea-97dd-9a2912a45700",
   "metadata": {},
   "outputs": [
    {
     "data": {
      "text/plain": [
       "datetime.datetime(2023, 1, 4, 0, 0)"
      ]
     },
     "execution_count": 78,
     "metadata": {},
     "output_type": "execute_result"
    }
   ],
   "source": [
    "birth + future"
   ]
  },
  {
   "cell_type": "code",
   "execution_count": 79,
   "id": "0ed6c58b-f048-4a1d-bc72-97ce6621fe2e",
   "metadata": {},
   "outputs": [
    {
     "name": "stdout",
     "output_type": "stream",
     "text": [
      "81 days, 13:24:28.744218\n"
     ]
    }
   ],
   "source": [
    "new_year = datetime(2024, 1, 1)\n",
    "now = datetime.now()\n",
    "\n",
    "print(new_year - now)"
   ]
  },
  {
   "cell_type": "code",
   "execution_count": 80,
   "id": "915e2e29-980b-4ade-88e2-1c1261c9d0ec",
   "metadata": {},
   "outputs": [
    {
     "name": "stdout",
     "output_type": "stream",
     "text": [
      "81 days, 13:23:44.481153\n"
     ]
    }
   ],
   "source": [
    "now = datetime.now()\n",
    "f = timedelta(days = 100)\n",
    "\n",
    "print(new_year - now)"
   ]
  },
  {
   "cell_type": "code",
   "execution_count": null,
   "id": "08930cef-1a05-4262-9426-57da289a2f5f",
   "metadata": {},
   "outputs": [],
   "source": [
    "now = datetime.now()\n",
    "f = timedate\n"
   ]
  }
 ],
 "metadata": {
  "kernelspec": {
   "display_name": "Python 3 (ipykernel)",
   "language": "python",
   "name": "python3"
  },
  "language_info": {
   "codemirror_mode": {
    "name": "ipython",
    "version": 3
   },
   "file_extension": ".py",
   "mimetype": "text/x-python",
   "name": "python",
   "nbconvert_exporter": "python",
   "pygments_lexer": "ipython3",
   "version": "3.11.2"
  }
 },
 "nbformat": 4,
 "nbformat_minor": 5
}
